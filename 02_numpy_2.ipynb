{
  "nbformat": 4,
  "nbformat_minor": 0,
  "metadata": {
    "colab": {
      "provenance": [],
      "authorship_tag": "ABX9TyO5BYOS1O7h3A8/FReZHAgR",
      "include_colab_link": true
    },
    "kernelspec": {
      "name": "python3",
      "display_name": "Python 3"
    },
    "language_info": {
      "name": "python"
    }
  },
  "cells": [
    {
      "cell_type": "markdown",
      "metadata": {
        "id": "view-in-github",
        "colab_type": "text"
      },
      "source": [
        "<a href=\"https://colab.research.google.com/github/adityajain2407/DAV-1-apr23/blob/main/02_numpy_2.ipynb\" target=\"_parent\"><img src=\"https://colab.research.google.com/assets/colab-badge.svg\" alt=\"Open In Colab\"/></a>"
      ]
    },
    {
      "cell_type": "code",
      "execution_count": 1,
      "metadata": {
        "id": "QLmIrbitwDB6"
      },
      "outputs": [],
      "source": [
        "import numpy as np"
      ]
    },
    {
      "cell_type": "code",
      "source": [
        "data = np.loadtxt(\"fit.txt\", dtype = 'str')"
      ],
      "metadata": {
        "id": "YWYTiH1Ywxi0"
      },
      "execution_count": 2,
      "outputs": []
    },
    {
      "cell_type": "code",
      "source": [
        "print(data)"
      ],
      "metadata": {
        "colab": {
          "base_uri": "https://localhost:8080/"
        },
        "id": "IMxEpFjGw2bo",
        "outputId": "2af96dda-4515-4cde-f77f-c47ceba3351b"
      },
      "execution_count": 4,
      "outputs": [
        {
          "output_type": "stream",
          "name": "stdout",
          "text": [
            "[['06-10-2017' '5464' 'Neutral' '181' '5' 'Inactive']\n",
            " ['07-10-2017' '6041' 'Sad' '197' '8' 'Inactive']\n",
            " ['08-10-2017' '25' 'Sad' '0' '5' 'Inactive']\n",
            " ['09-10-2017' '5461' 'Sad' '174' '4' 'Inactive']\n",
            " ['10-10-2017' '6915' 'Neutral' '223' '5' 'Active']\n",
            " ['11-10-2017' '4545' 'Sad' '149' '6' 'Inactive']\n",
            " ['12-10-2017' '4340' 'Sad' '140' '6' 'Inactive']\n",
            " ['13-10-2017' '1230' 'Sad' '38' '7' 'Inactive']\n",
            " ['14-10-2017' '61' 'Sad' '1' '5' 'Inactive']\n",
            " ['15-10-2017' '1258' 'Sad' '40' '6' 'Inactive']\n",
            " ['16-10-2017' '3148' 'Sad' '101' '8' 'Inactive']\n",
            " ['17-10-2017' '4687' 'Sad' '152' '5' 'Inactive']\n",
            " ['18-10-2017' '4732' 'Happy' '150' '6' 'Active']\n",
            " ['19-10-2017' '3519' 'Sad' '113' '7' 'Inactive']\n",
            " ['20-10-2017' '1580' 'Sad' '49' '5' 'Inactive']\n",
            " ['21-10-2017' '2822' 'Sad' '86' '6' 'Inactive']\n",
            " ['22-10-2017' '181' 'Sad' '6' '8' 'Inactive']\n",
            " ['23-10-2017' '3158' 'Neutral' '99' '5' 'Inactive']\n",
            " ['24-10-2017' '4383' 'Neutral' '143' '4' 'Inactive']\n",
            " ['25-10-2017' '3881' 'Neutral' '125' '5' 'Inactive']\n",
            " ['26-10-2017' '4037' 'Neutral' '129' '6' 'Inactive']\n",
            " ['27-10-2017' '202' 'Neutral' '6' '8' 'Inactive']\n",
            " ['28-10-2017' '292' 'Neutral' '9' '5' 'Inactive']\n",
            " ['29-10-2017' '330' 'Happy' '10' '6' 'Inactive']\n",
            " ['30-10-2017' '2209' 'Neutral' '72' '5' 'Inactive']\n",
            " ['31-10-2017' '4550' 'Happy' '150' '8' 'Active']\n",
            " ['01-11-2017' '4435' 'Happy' '141' '5' 'Inactive']\n",
            " ['02-11-2017' '4779' 'Happy' '156' '4' 'Inactive']\n",
            " ['03-11-2017' '1831' 'Happy' '57' '5' 'Inactive']\n",
            " ['04-11-2017' '2255' 'Happy' '72' '4' 'Inactive']\n",
            " ['05-11-2017' '539' 'Happy' '17' '5' 'Active']\n",
            " ['06-11-2017' '5464' 'Happy' '181' '4' 'Inactive']\n",
            " ['07-11-2017' '6041' 'Neutral' '197' '3' 'Inactive']\n",
            " ['08-11-2017' '4068' 'Happy' '131' '2' 'Inactive']\n",
            " ['09-11-2017' '4683' 'Happy' '154' '9' 'Inactive']\n",
            " ['10-11-2017' '4033' 'Happy' '137' '5' 'Inactive']\n",
            " ['11-11-2017' '6314' 'Happy' '193' '6' 'Active']\n",
            " ['12-11-2017' '614' 'Happy' '19' '4' 'Active']\n",
            " ['13-11-2017' '3149' 'Happy' '101' '5' 'Active']\n",
            " ['14-11-2017' '4005' 'Happy' '139' '8' 'Active']\n",
            " ['15-11-2017' '4880' 'Happy' '164' '4' 'Active']\n",
            " ['16-11-2017' '4136' 'Happy' '137' '5' 'Active']\n",
            " ['17-11-2017' '705' 'Happy' '22' '6' 'Active']\n",
            " ['18-11-2017' '570' 'Neutral' '17' '5' 'Active']\n",
            " ['19-11-2017' '269' 'Happy' '9' '6' 'Active']\n",
            " ['20-11-2017' '4275' 'Happy' '145' '5' 'Inactive']\n",
            " ['21-11-2017' '5999' 'Happy' '192' '6' 'Inactive']\n",
            " ['22-11-2017' '4421' 'Happy' '146' '5' 'Inactive']\n",
            " ['23-11-2017' '6930' 'Happy' '234' '6' 'Inactive']\n",
            " ['24-11-2017' '5195' 'Happy' '167' '5' 'Inactive']\n",
            " ['25-11-2017' '546' 'Happy' '16' '6' 'Inactive']\n",
            " ['26-11-2017' '493' 'Happy' '17' '7' 'Active']\n",
            " ['27-11-2017' '995' 'Happy' '32' '6' 'Active']\n",
            " ['28-11-2017' '1163' 'Neutral' '35' '7' 'Active']\n",
            " ['29-11-2017' '6676' 'Sad' '220' '6' 'Active']\n",
            " ['30-11-2017' '3608' 'Happy' '116' '5' 'Active']\n",
            " ['01-12-2017' '774' 'Happy' '23' '6' 'Active']\n",
            " ['02-12-2017' '1421' 'Happy' '44' '7' 'Active']\n",
            " ['03-12-2017' '4064' 'Happy' '131' '8' 'Active']\n",
            " ['04-12-2017' '2725' 'Happy' '86' '8' 'Active']\n",
            " ['05-12-2017' '5934' 'Happy' '194' '7' 'Active']\n",
            " ['06-12-2017' '1867' 'Happy' '60' '8' 'Active']\n",
            " ['07-12-2017' '3721' 'Sad' '121' '5' 'Active']\n",
            " ['08-12-2017' '2374' 'Neutral' '76' '4' 'Inactive']\n",
            " ['09-12-2017' '2909' 'Neutral' '93' '3' 'Active']\n",
            " ['10-12-2017' '1648' 'Sad' '53' '3' 'Active']\n",
            " ['11-12-2017' '799' 'Sad' '25' '4' 'Inactive']\n",
            " ['12-12-2017' '7102' 'Neutral' '227' '5' 'Active']\n",
            " ['13-12-2017' '3941' 'Neutral' '125' '5' 'Active']\n",
            " ['14-12-2017' '7422' 'Happy' '243' '5' 'Active']\n",
            " ['15-12-2017' '437' 'Neutral' '14' '3' 'Active']\n",
            " ['16-12-2017' '1231' 'Neutral' '39' '4' 'Active']\n",
            " ['17-12-2017' '1696' 'Sad' '55' '4' 'Inactive']\n",
            " ['18-12-2017' '4921' 'Neutral' '158' '5' 'Active']\n",
            " ['19-12-2017' '221' 'Sad' '7' '5' 'Active']\n",
            " ['20-12-2017' '6500' 'Neutral' '213' '5' 'Active']\n",
            " ['21-12-2017' '3575' 'Neutral' '116' '5' 'Active']\n",
            " ['22-12-2017' '4061' 'Sad' '129' '5' 'Inactive']\n",
            " ['23-12-2017' '651' 'Sad' '21' '5' 'Inactive']\n",
            " ['24-12-2017' '753' 'Sad' '28' '4' 'Inactive']\n",
            " ['25-12-2017' '518' 'Sad' '16' '3' 'Inactive']\n",
            " ['26-12-2017' '5537' 'Happy' '180' '4' 'Active']\n",
            " ['27-12-2017' '4108' 'Neutral' '138' '5' 'Active']\n",
            " ['28-12-2017' '5376' 'Happy' '176' '5' 'Active']\n",
            " ['29-12-2017' '3066' 'Neutral' '99' '4' 'Active']\n",
            " ['30-12-2017' '177' 'Sad' '5' '5' 'Inactive']\n",
            " ['31-12-2017' '36' 'Sad' '1' '3' 'Inactive']\n",
            " ['01-01-2018' '299' 'Sad' '10' '3' 'Inactive']\n",
            " ['02-01-2018' '1447' 'Neutral' '47' '3' 'Inactive']\n",
            " ['03-01-2018' '2599' 'Neutral' '84' '2' 'Inactive']\n",
            " ['04-01-2018' '702' 'Sad' '23' '3' 'Inactive']\n",
            " ['05-01-2018' '133' 'Sad' '4' '2' 'Inactive']\n",
            " ['06-01-2018' '153' 'Happy' '0' '8' 'Inactive']\n",
            " ['07-01-2018' '500' 'Neutral' '0' '5' 'Active']\n",
            " ['08-01-2018' '2127' 'Neutral' '0' '5' 'Inactive']\n",
            " ['09-01-2018' '2203' 'Happy' '0' '5' 'Active']]\n"
          ]
        }
      ]
    },
    {
      "cell_type": "code",
      "source": [
        "data.ndim"
      ],
      "metadata": {
        "colab": {
          "base_uri": "https://localhost:8080/"
        },
        "id": "qPaLbxTPw5BF",
        "outputId": "f07e9f30-7ef9-4816-af5c-7ba221754886"
      },
      "execution_count": 5,
      "outputs": [
        {
          "output_type": "execute_result",
          "data": {
            "text/plain": [
              "2"
            ]
          },
          "metadata": {},
          "execution_count": 5
        }
      ]
    },
    {
      "cell_type": "code",
      "source": [
        "data.shape"
      ],
      "metadata": {
        "colab": {
          "base_uri": "https://localhost:8080/"
        },
        "id": "TbCm8KvfxddL",
        "outputId": "837c3b5b-2615-4bdf-9b3d-a4cf370b8eb8"
      },
      "execution_count": 6,
      "outputs": [
        {
          "output_type": "execute_result",
          "data": {
            "text/plain": [
              "(96, 6)"
            ]
          },
          "metadata": {},
          "execution_count": 6
        }
      ]
    },
    {
      "cell_type": "code",
      "source": [
        "data[0]"
      ],
      "metadata": {
        "colab": {
          "base_uri": "https://localhost:8080/"
        },
        "id": "qv0IvAw1xhR1",
        "outputId": "483152ec-ff98-4b8b-dbd2-a026fc9a6447"
      },
      "execution_count": 7,
      "outputs": [
        {
          "output_type": "execute_result",
          "data": {
            "text/plain": [
              "array(['06-10-2017', '5464', 'Neutral', '181', '5', 'Inactive'],\n",
              "      dtype='<U10')"
            ]
          },
          "metadata": {},
          "execution_count": 7
        }
      ]
    },
    {
      "cell_type": "code",
      "source": [
        "print(data[1])"
      ],
      "metadata": {
        "colab": {
          "base_uri": "https://localhost:8080/"
        },
        "id": "RJ7sU0muxohq",
        "outputId": "3b69a05f-285d-412d-e709-01cb8b66f54a"
      },
      "execution_count": 8,
      "outputs": [
        {
          "output_type": "stream",
          "name": "stdout",
          "text": [
            "['07-10-2017' '6041' 'Sad' '197' '8' 'Inactive']\n"
          ]
        }
      ]
    },
    {
      "cell_type": "code",
      "source": [
        "print(data[:5])"
      ],
      "metadata": {
        "colab": {
          "base_uri": "https://localhost:8080/"
        },
        "id": "SiIikzw3xzxr",
        "outputId": "d4e31a0b-7773-45b3-8656-de412d0fdf1c"
      },
      "execution_count": 9,
      "outputs": [
        {
          "output_type": "stream",
          "name": "stdout",
          "text": [
            "[['06-10-2017' '5464' 'Neutral' '181' '5' 'Inactive']\n",
            " ['07-10-2017' '6041' 'Sad' '197' '8' 'Inactive']\n",
            " ['08-10-2017' '25' 'Sad' '0' '5' 'Inactive']\n",
            " ['09-10-2017' '5461' 'Sad' '174' '4' 'Inactive']\n",
            " ['10-10-2017' '6915' 'Neutral' '223' '5' 'Active']]\n"
          ]
        }
      ]
    },
    {
      "cell_type": "code",
      "source": [
        "data_t = data.T #Transose\n",
        "print(data_t)"
      ],
      "metadata": {
        "colab": {
          "base_uri": "https://localhost:8080/"
        },
        "id": "H6nlXqGeyCDj",
        "outputId": "1fde12e7-c0dc-45e1-d665-fe4cadf6344c"
      },
      "execution_count": 10,
      "outputs": [
        {
          "output_type": "stream",
          "name": "stdout",
          "text": [
            "[['06-10-2017' '07-10-2017' '08-10-2017' '09-10-2017' '10-10-2017'\n",
            "  '11-10-2017' '12-10-2017' '13-10-2017' '14-10-2017' '15-10-2017'\n",
            "  '16-10-2017' '17-10-2017' '18-10-2017' '19-10-2017' '20-10-2017'\n",
            "  '21-10-2017' '22-10-2017' '23-10-2017' '24-10-2017' '25-10-2017'\n",
            "  '26-10-2017' '27-10-2017' '28-10-2017' '29-10-2017' '30-10-2017'\n",
            "  '31-10-2017' '01-11-2017' '02-11-2017' '03-11-2017' '04-11-2017'\n",
            "  '05-11-2017' '06-11-2017' '07-11-2017' '08-11-2017' '09-11-2017'\n",
            "  '10-11-2017' '11-11-2017' '12-11-2017' '13-11-2017' '14-11-2017'\n",
            "  '15-11-2017' '16-11-2017' '17-11-2017' '18-11-2017' '19-11-2017'\n",
            "  '20-11-2017' '21-11-2017' '22-11-2017' '23-11-2017' '24-11-2017'\n",
            "  '25-11-2017' '26-11-2017' '27-11-2017' '28-11-2017' '29-11-2017'\n",
            "  '30-11-2017' '01-12-2017' '02-12-2017' '03-12-2017' '04-12-2017'\n",
            "  '05-12-2017' '06-12-2017' '07-12-2017' '08-12-2017' '09-12-2017'\n",
            "  '10-12-2017' '11-12-2017' '12-12-2017' '13-12-2017' '14-12-2017'\n",
            "  '15-12-2017' '16-12-2017' '17-12-2017' '18-12-2017' '19-12-2017'\n",
            "  '20-12-2017' '21-12-2017' '22-12-2017' '23-12-2017' '24-12-2017'\n",
            "  '25-12-2017' '26-12-2017' '27-12-2017' '28-12-2017' '29-12-2017'\n",
            "  '30-12-2017' '31-12-2017' '01-01-2018' '02-01-2018' '03-01-2018'\n",
            "  '04-01-2018' '05-01-2018' '06-01-2018' '07-01-2018' '08-01-2018'\n",
            "  '09-01-2018']\n",
            " ['5464' '6041' '25' '5461' '6915' '4545' '4340' '1230' '61' '1258'\n",
            "  '3148' '4687' '4732' '3519' '1580' '2822' '181' '3158' '4383' '3881'\n",
            "  '4037' '202' '292' '330' '2209' '4550' '4435' '4779' '1831' '2255'\n",
            "  '539' '5464' '6041' '4068' '4683' '4033' '6314' '614' '3149' '4005'\n",
            "  '4880' '4136' '705' '570' '269' '4275' '5999' '4421' '6930' '5195'\n",
            "  '546' '493' '995' '1163' '6676' '3608' '774' '1421' '4064' '2725'\n",
            "  '5934' '1867' '3721' '2374' '2909' '1648' '799' '7102' '3941' '7422'\n",
            "  '437' '1231' '1696' '4921' '221' '6500' '3575' '4061' '651' '753' '518'\n",
            "  '5537' '4108' '5376' '3066' '177' '36' '299' '1447' '2599' '702' '133'\n",
            "  '153' '500' '2127' '2203']\n",
            " ['Neutral' 'Sad' 'Sad' 'Sad' 'Neutral' 'Sad' 'Sad' 'Sad' 'Sad' 'Sad'\n",
            "  'Sad' 'Sad' 'Happy' 'Sad' 'Sad' 'Sad' 'Sad' 'Neutral' 'Neutral'\n",
            "  'Neutral' 'Neutral' 'Neutral' 'Neutral' 'Happy' 'Neutral' 'Happy'\n",
            "  'Happy' 'Happy' 'Happy' 'Happy' 'Happy' 'Happy' 'Neutral' 'Happy'\n",
            "  'Happy' 'Happy' 'Happy' 'Happy' 'Happy' 'Happy' 'Happy' 'Happy' 'Happy'\n",
            "  'Neutral' 'Happy' 'Happy' 'Happy' 'Happy' 'Happy' 'Happy' 'Happy'\n",
            "  'Happy' 'Happy' 'Neutral' 'Sad' 'Happy' 'Happy' 'Happy' 'Happy' 'Happy'\n",
            "  'Happy' 'Happy' 'Sad' 'Neutral' 'Neutral' 'Sad' 'Sad' 'Neutral'\n",
            "  'Neutral' 'Happy' 'Neutral' 'Neutral' 'Sad' 'Neutral' 'Sad' 'Neutral'\n",
            "  'Neutral' 'Sad' 'Sad' 'Sad' 'Sad' 'Happy' 'Neutral' 'Happy' 'Neutral'\n",
            "  'Sad' 'Sad' 'Sad' 'Neutral' 'Neutral' 'Sad' 'Sad' 'Happy' 'Neutral'\n",
            "  'Neutral' 'Happy']\n",
            " ['181' '197' '0' '174' '223' '149' '140' '38' '1' '40' '101' '152' '150'\n",
            "  '113' '49' '86' '6' '99' '143' '125' '129' '6' '9' '10' '72' '150'\n",
            "  '141' '156' '57' '72' '17' '181' '197' '131' '154' '137' '193' '19'\n",
            "  '101' '139' '164' '137' '22' '17' '9' '145' '192' '146' '234' '167'\n",
            "  '16' '17' '32' '35' '220' '116' '23' '44' '131' '86' '194' '60' '121'\n",
            "  '76' '93' '53' '25' '227' '125' '243' '14' '39' '55' '158' '7' '213'\n",
            "  '116' '129' '21' '28' '16' '180' '138' '176' '99' '5' '1' '10' '47'\n",
            "  '84' '23' '4' '0' '0' '0' '0']\n",
            " ['5' '8' '5' '4' '5' '6' '6' '7' '5' '6' '8' '5' '6' '7' '5' '6' '8' '5'\n",
            "  '4' '5' '6' '8' '5' '6' '5' '8' '5' '4' '5' '4' '5' '4' '3' '2' '9' '5'\n",
            "  '6' '4' '5' '8' '4' '5' '6' '5' '6' '5' '6' '5' '6' '5' '6' '7' '6' '7'\n",
            "  '6' '5' '6' '7' '8' '8' '7' '8' '5' '4' '3' '3' '4' '5' '5' '5' '3' '4'\n",
            "  '4' '5' '5' '5' '5' '5' '5' '4' '3' '4' '5' '5' '4' '5' '3' '3' '3' '2'\n",
            "  '3' '2' '8' '5' '5' '5']\n",
            " ['Inactive' 'Inactive' 'Inactive' 'Inactive' 'Active' 'Inactive'\n",
            "  'Inactive' 'Inactive' 'Inactive' 'Inactive' 'Inactive' 'Inactive'\n",
            "  'Active' 'Inactive' 'Inactive' 'Inactive' 'Inactive' 'Inactive'\n",
            "  'Inactive' 'Inactive' 'Inactive' 'Inactive' 'Inactive' 'Inactive'\n",
            "  'Inactive' 'Active' 'Inactive' 'Inactive' 'Inactive' 'Inactive'\n",
            "  'Active' 'Inactive' 'Inactive' 'Inactive' 'Inactive' 'Inactive'\n",
            "  'Active' 'Active' 'Active' 'Active' 'Active' 'Active' 'Active' 'Active'\n",
            "  'Active' 'Inactive' 'Inactive' 'Inactive' 'Inactive' 'Inactive'\n",
            "  'Inactive' 'Active' 'Active' 'Active' 'Active' 'Active' 'Active'\n",
            "  'Active' 'Active' 'Active' 'Active' 'Active' 'Active' 'Inactive'\n",
            "  'Active' 'Active' 'Inactive' 'Active' 'Active' 'Active' 'Active'\n",
            "  'Active' 'Inactive' 'Active' 'Active' 'Active' 'Active' 'Inactive'\n",
            "  'Inactive' 'Inactive' 'Inactive' 'Active' 'Active' 'Active' 'Active'\n",
            "  'Inactive' 'Inactive' 'Inactive' 'Inactive' 'Inactive' 'Inactive'\n",
            "  'Inactive' 'Inactive' 'Active' 'Inactive' 'Active']]\n"
          ]
        }
      ]
    },
    {
      "cell_type": "code",
      "source": [
        "print(data)"
      ],
      "metadata": {
        "colab": {
          "base_uri": "https://localhost:8080/"
        },
        "id": "CL_V6KW1yoy8",
        "outputId": "914529ec-d378-4b3d-8561-353ca0f238de"
      },
      "execution_count": 12,
      "outputs": [
        {
          "output_type": "stream",
          "name": "stdout",
          "text": [
            "[['06-10-2017' '5464' 'Neutral' '181' '5' 'Inactive']\n",
            " ['07-10-2017' '6041' 'Sad' '197' '8' 'Inactive']\n",
            " ['08-10-2017' '25' 'Sad' '0' '5' 'Inactive']\n",
            " ['09-10-2017' '5461' 'Sad' '174' '4' 'Inactive']\n",
            " ['10-10-2017' '6915' 'Neutral' '223' '5' 'Active']\n",
            " ['11-10-2017' '4545' 'Sad' '149' '6' 'Inactive']\n",
            " ['12-10-2017' '4340' 'Sad' '140' '6' 'Inactive']\n",
            " ['13-10-2017' '1230' 'Sad' '38' '7' 'Inactive']\n",
            " ['14-10-2017' '61' 'Sad' '1' '5' 'Inactive']\n",
            " ['15-10-2017' '1258' 'Sad' '40' '6' 'Inactive']\n",
            " ['16-10-2017' '3148' 'Sad' '101' '8' 'Inactive']\n",
            " ['17-10-2017' '4687' 'Sad' '152' '5' 'Inactive']\n",
            " ['18-10-2017' '4732' 'Happy' '150' '6' 'Active']\n",
            " ['19-10-2017' '3519' 'Sad' '113' '7' 'Inactive']\n",
            " ['20-10-2017' '1580' 'Sad' '49' '5' 'Inactive']\n",
            " ['21-10-2017' '2822' 'Sad' '86' '6' 'Inactive']\n",
            " ['22-10-2017' '181' 'Sad' '6' '8' 'Inactive']\n",
            " ['23-10-2017' '3158' 'Neutral' '99' '5' 'Inactive']\n",
            " ['24-10-2017' '4383' 'Neutral' '143' '4' 'Inactive']\n",
            " ['25-10-2017' '3881' 'Neutral' '125' '5' 'Inactive']\n",
            " ['26-10-2017' '4037' 'Neutral' '129' '6' 'Inactive']\n",
            " ['27-10-2017' '202' 'Neutral' '6' '8' 'Inactive']\n",
            " ['28-10-2017' '292' 'Neutral' '9' '5' 'Inactive']\n",
            " ['29-10-2017' '330' 'Happy' '10' '6' 'Inactive']\n",
            " ['30-10-2017' '2209' 'Neutral' '72' '5' 'Inactive']\n",
            " ['31-10-2017' '4550' 'Happy' '150' '8' 'Active']\n",
            " ['01-11-2017' '4435' 'Happy' '141' '5' 'Inactive']\n",
            " ['02-11-2017' '4779' 'Happy' '156' '4' 'Inactive']\n",
            " ['03-11-2017' '1831' 'Happy' '57' '5' 'Inactive']\n",
            " ['04-11-2017' '2255' 'Happy' '72' '4' 'Inactive']\n",
            " ['05-11-2017' '539' 'Happy' '17' '5' 'Active']\n",
            " ['06-11-2017' '5464' 'Happy' '181' '4' 'Inactive']\n",
            " ['07-11-2017' '6041' 'Neutral' '197' '3' 'Inactive']\n",
            " ['08-11-2017' '4068' 'Happy' '131' '2' 'Inactive']\n",
            " ['09-11-2017' '4683' 'Happy' '154' '9' 'Inactive']\n",
            " ['10-11-2017' '4033' 'Happy' '137' '5' 'Inactive']\n",
            " ['11-11-2017' '6314' 'Happy' '193' '6' 'Active']\n",
            " ['12-11-2017' '614' 'Happy' '19' '4' 'Active']\n",
            " ['13-11-2017' '3149' 'Happy' '101' '5' 'Active']\n",
            " ['14-11-2017' '4005' 'Happy' '139' '8' 'Active']\n",
            " ['15-11-2017' '4880' 'Happy' '164' '4' 'Active']\n",
            " ['16-11-2017' '4136' 'Happy' '137' '5' 'Active']\n",
            " ['17-11-2017' '705' 'Happy' '22' '6' 'Active']\n",
            " ['18-11-2017' '570' 'Neutral' '17' '5' 'Active']\n",
            " ['19-11-2017' '269' 'Happy' '9' '6' 'Active']\n",
            " ['20-11-2017' '4275' 'Happy' '145' '5' 'Inactive']\n",
            " ['21-11-2017' '5999' 'Happy' '192' '6' 'Inactive']\n",
            " ['22-11-2017' '4421' 'Happy' '146' '5' 'Inactive']\n",
            " ['23-11-2017' '6930' 'Happy' '234' '6' 'Inactive']\n",
            " ['24-11-2017' '5195' 'Happy' '167' '5' 'Inactive']\n",
            " ['25-11-2017' '546' 'Happy' '16' '6' 'Inactive']\n",
            " ['26-11-2017' '493' 'Happy' '17' '7' 'Active']\n",
            " ['27-11-2017' '995' 'Happy' '32' '6' 'Active']\n",
            " ['28-11-2017' '1163' 'Neutral' '35' '7' 'Active']\n",
            " ['29-11-2017' '6676' 'Sad' '220' '6' 'Active']\n",
            " ['30-11-2017' '3608' 'Happy' '116' '5' 'Active']\n",
            " ['01-12-2017' '774' 'Happy' '23' '6' 'Active']\n",
            " ['02-12-2017' '1421' 'Happy' '44' '7' 'Active']\n",
            " ['03-12-2017' '4064' 'Happy' '131' '8' 'Active']\n",
            " ['04-12-2017' '2725' 'Happy' '86' '8' 'Active']\n",
            " ['05-12-2017' '5934' 'Happy' '194' '7' 'Active']\n",
            " ['06-12-2017' '1867' 'Happy' '60' '8' 'Active']\n",
            " ['07-12-2017' '3721' 'Sad' '121' '5' 'Active']\n",
            " ['08-12-2017' '2374' 'Neutral' '76' '4' 'Inactive']\n",
            " ['09-12-2017' '2909' 'Neutral' '93' '3' 'Active']\n",
            " ['10-12-2017' '1648' 'Sad' '53' '3' 'Active']\n",
            " ['11-12-2017' '799' 'Sad' '25' '4' 'Inactive']\n",
            " ['12-12-2017' '7102' 'Neutral' '227' '5' 'Active']\n",
            " ['13-12-2017' '3941' 'Neutral' '125' '5' 'Active']\n",
            " ['14-12-2017' '7422' 'Happy' '243' '5' 'Active']\n",
            " ['15-12-2017' '437' 'Neutral' '14' '3' 'Active']\n",
            " ['16-12-2017' '1231' 'Neutral' '39' '4' 'Active']\n",
            " ['17-12-2017' '1696' 'Sad' '55' '4' 'Inactive']\n",
            " ['18-12-2017' '4921' 'Neutral' '158' '5' 'Active']\n",
            " ['19-12-2017' '221' 'Sad' '7' '5' 'Active']\n",
            " ['20-12-2017' '6500' 'Neutral' '213' '5' 'Active']\n",
            " ['21-12-2017' '3575' 'Neutral' '116' '5' 'Active']\n",
            " ['22-12-2017' '4061' 'Sad' '129' '5' 'Inactive']\n",
            " ['23-12-2017' '651' 'Sad' '21' '5' 'Inactive']\n",
            " ['24-12-2017' '753' 'Sad' '28' '4' 'Inactive']\n",
            " ['25-12-2017' '518' 'Sad' '16' '3' 'Inactive']\n",
            " ['26-12-2017' '5537' 'Happy' '180' '4' 'Active']\n",
            " ['27-12-2017' '4108' 'Neutral' '138' '5' 'Active']\n",
            " ['28-12-2017' '5376' 'Happy' '176' '5' 'Active']\n",
            " ['29-12-2017' '3066' 'Neutral' '99' '4' 'Active']\n",
            " ['30-12-2017' '177' 'Sad' '5' '5' 'Inactive']\n",
            " ['31-12-2017' '36' 'Sad' '1' '3' 'Inactive']\n",
            " ['01-01-2018' '299' 'Sad' '10' '3' 'Inactive']\n",
            " ['02-01-2018' '1447' 'Neutral' '47' '3' 'Inactive']\n",
            " ['03-01-2018' '2599' 'Neutral' '84' '2' 'Inactive']\n",
            " ['04-01-2018' '702' 'Sad' '23' '3' 'Inactive']\n",
            " ['05-01-2018' '133' 'Sad' '4' '2' 'Inactive']\n",
            " ['06-01-2018' '153' 'Happy' '0' '8' 'Inactive']\n",
            " ['07-01-2018' '500' 'Neutral' '0' '5' 'Active']\n",
            " ['08-01-2018' '2127' 'Neutral' '0' '5' 'Inactive']\n",
            " ['09-01-2018' '2203' 'Happy' '0' '5' 'Active']]\n"
          ]
        }
      ]
    },
    {
      "cell_type": "code",
      "source": [
        "data_t.shape"
      ],
      "metadata": {
        "colab": {
          "base_uri": "https://localhost:8080/"
        },
        "id": "4FabirM2y4JB",
        "outputId": "56366410-4976-476a-d374-f108e5ca01e0"
      },
      "execution_count": 13,
      "outputs": [
        {
          "output_type": "execute_result",
          "data": {
            "text/plain": [
              "(6, 96)"
            ]
          },
          "metadata": {},
          "execution_count": 13
        }
      ]
    },
    {
      "cell_type": "code",
      "source": [
        "len(data_t)"
      ],
      "metadata": {
        "colab": {
          "base_uri": "https://localhost:8080/"
        },
        "id": "rkbLUbKdywCW",
        "outputId": "6ae8d226-0bdc-48d1-9dc2-b69b0bd8e826"
      },
      "execution_count": 14,
      "outputs": [
        {
          "output_type": "execute_result",
          "data": {
            "text/plain": [
              "6"
            ]
          },
          "metadata": {},
          "execution_count": 14
        }
      ]
    },
    {
      "cell_type": "code",
      "source": [
        "rows = data_t.shape[0]\n",
        "cols = data_t.shape[1]"
      ],
      "metadata": {
        "id": "-lziuB1ry_HU"
      },
      "execution_count": 15,
      "outputs": []
    },
    {
      "cell_type": "code",
      "source": [
        "rows, cols"
      ],
      "metadata": {
        "colab": {
          "base_uri": "https://localhost:8080/"
        },
        "id": "HFHCZlKBzFgN",
        "outputId": "1434d22c-57c8-45d8-c3a9-cee286eff44a"
      },
      "execution_count": 16,
      "outputs": [
        {
          "output_type": "execute_result",
          "data": {
            "text/plain": [
              "(6, 96)"
            ]
          },
          "metadata": {},
          "execution_count": 16
        }
      ]
    },
    {
      "cell_type": "code",
      "source": [
        "dates = data_t[0]"
      ],
      "metadata": {
        "id": "luvhiaJkzGPG"
      },
      "execution_count": 17,
      "outputs": []
    },
    {
      "cell_type": "code",
      "source": [
        "print(dates)"
      ],
      "metadata": {
        "colab": {
          "base_uri": "https://localhost:8080/"
        },
        "id": "bXFuqCASzNNY",
        "outputId": "5816267c-3bb1-4e7b-97ac-90966eda5205"
      },
      "execution_count": 18,
      "outputs": [
        {
          "output_type": "stream",
          "name": "stdout",
          "text": [
            "['06-10-2017' '07-10-2017' '08-10-2017' '09-10-2017' '10-10-2017'\n",
            " '11-10-2017' '12-10-2017' '13-10-2017' '14-10-2017' '15-10-2017'\n",
            " '16-10-2017' '17-10-2017' '18-10-2017' '19-10-2017' '20-10-2017'\n",
            " '21-10-2017' '22-10-2017' '23-10-2017' '24-10-2017' '25-10-2017'\n",
            " '26-10-2017' '27-10-2017' '28-10-2017' '29-10-2017' '30-10-2017'\n",
            " '31-10-2017' '01-11-2017' '02-11-2017' '03-11-2017' '04-11-2017'\n",
            " '05-11-2017' '06-11-2017' '07-11-2017' '08-11-2017' '09-11-2017'\n",
            " '10-11-2017' '11-11-2017' '12-11-2017' '13-11-2017' '14-11-2017'\n",
            " '15-11-2017' '16-11-2017' '17-11-2017' '18-11-2017' '19-11-2017'\n",
            " '20-11-2017' '21-11-2017' '22-11-2017' '23-11-2017' '24-11-2017'\n",
            " '25-11-2017' '26-11-2017' '27-11-2017' '28-11-2017' '29-11-2017'\n",
            " '30-11-2017' '01-12-2017' '02-12-2017' '03-12-2017' '04-12-2017'\n",
            " '05-12-2017' '06-12-2017' '07-12-2017' '08-12-2017' '09-12-2017'\n",
            " '10-12-2017' '11-12-2017' '12-12-2017' '13-12-2017' '14-12-2017'\n",
            " '15-12-2017' '16-12-2017' '17-12-2017' '18-12-2017' '19-12-2017'\n",
            " '20-12-2017' '21-12-2017' '22-12-2017' '23-12-2017' '24-12-2017'\n",
            " '25-12-2017' '26-12-2017' '27-12-2017' '28-12-2017' '29-12-2017'\n",
            " '30-12-2017' '31-12-2017' '01-01-2018' '02-01-2018' '03-01-2018'\n",
            " '04-01-2018' '05-01-2018' '06-01-2018' '07-01-2018' '08-01-2018'\n",
            " '09-01-2018']\n"
          ]
        }
      ]
    },
    {
      "cell_type": "code",
      "source": [
        "dates.ndim"
      ],
      "metadata": {
        "colab": {
          "base_uri": "https://localhost:8080/"
        },
        "id": "DAFCkSAEzN6K",
        "outputId": "59962451-7ba6-41f9-a190-1f90e3d292dc"
      },
      "execution_count": 19,
      "outputs": [
        {
          "output_type": "execute_result",
          "data": {
            "text/plain": [
              "1"
            ]
          },
          "metadata": {},
          "execution_count": 19
        }
      ]
    },
    {
      "cell_type": "code",
      "source": [
        "dates.shape"
      ],
      "metadata": {
        "colab": {
          "base_uri": "https://localhost:8080/"
        },
        "id": "DO1lIelYzaso",
        "outputId": "bbc1a46e-a87d-4f6a-92a0-082d8572dedc"
      },
      "execution_count": 20,
      "outputs": [
        {
          "output_type": "execute_result",
          "data": {
            "text/plain": [
              "(96,)"
            ]
          },
          "metadata": {},
          "execution_count": 20
        }
      ]
    },
    {
      "cell_type": "code",
      "source": [
        "step_count = data_t[1]\n",
        "print(step_count)"
      ],
      "metadata": {
        "colab": {
          "base_uri": "https://localhost:8080/"
        },
        "id": "qD33UCY-zeyI",
        "outputId": "e34f744e-0bba-4789-f8ea-44ad7fce2c3c"
      },
      "execution_count": 21,
      "outputs": [
        {
          "output_type": "stream",
          "name": "stdout",
          "text": [
            "['5464' '6041' '25' '5461' '6915' '4545' '4340' '1230' '61' '1258' '3148'\n",
            " '4687' '4732' '3519' '1580' '2822' '181' '3158' '4383' '3881' '4037'\n",
            " '202' '292' '330' '2209' '4550' '4435' '4779' '1831' '2255' '539' '5464'\n",
            " '6041' '4068' '4683' '4033' '6314' '614' '3149' '4005' '4880' '4136'\n",
            " '705' '570' '269' '4275' '5999' '4421' '6930' '5195' '546' '493' '995'\n",
            " '1163' '6676' '3608' '774' '1421' '4064' '2725' '5934' '1867' '3721'\n",
            " '2374' '2909' '1648' '799' '7102' '3941' '7422' '437' '1231' '1696'\n",
            " '4921' '221' '6500' '3575' '4061' '651' '753' '518' '5537' '4108' '5376'\n",
            " '3066' '177' '36' '299' '1447' '2599' '702' '133' '153' '500' '2127'\n",
            " '2203']\n"
          ]
        }
      ]
    },
    {
      "cell_type": "code",
      "source": [
        "step_count = np.array(step_count, dtype = \"int\")\n",
        "print(step_count)"
      ],
      "metadata": {
        "colab": {
          "base_uri": "https://localhost:8080/"
        },
        "id": "s8ElxRpOzqAg",
        "outputId": "5213f6c3-7e22-4019-9c90-ca69ab15e1b5"
      },
      "execution_count": 22,
      "outputs": [
        {
          "output_type": "stream",
          "name": "stdout",
          "text": [
            "[5464 6041   25 5461 6915 4545 4340 1230   61 1258 3148 4687 4732 3519\n",
            " 1580 2822  181 3158 4383 3881 4037  202  292  330 2209 4550 4435 4779\n",
            " 1831 2255  539 5464 6041 4068 4683 4033 6314  614 3149 4005 4880 4136\n",
            "  705  570  269 4275 5999 4421 6930 5195  546  493  995 1163 6676 3608\n",
            "  774 1421 4064 2725 5934 1867 3721 2374 2909 1648  799 7102 3941 7422\n",
            "  437 1231 1696 4921  221 6500 3575 4061  651  753  518 5537 4108 5376\n",
            " 3066  177   36  299 1447 2599  702  133  153  500 2127 2203]\n"
          ]
        }
      ]
    },
    {
      "cell_type": "code",
      "source": [
        "np.mean(step_count) #average step count in the given data"
      ],
      "metadata": {
        "colab": {
          "base_uri": "https://localhost:8080/"
        },
        "id": "Fmty4H_5z5fN",
        "outputId": "b294ae79-853d-42ad-c070-caa9eae84ad6"
      },
      "execution_count": 24,
      "outputs": [
        {
          "output_type": "execute_result",
          "data": {
            "text/plain": [
              "2935.9375"
            ]
          },
          "metadata": {},
          "execution_count": 24
        }
      ]
    },
    {
      "cell_type": "code",
      "source": [
        "#version2"
      ],
      "metadata": {
        "id": "16IZGIj60CG8"
      },
      "execution_count": 25,
      "outputs": []
    },
    {
      "cell_type": "code",
      "source": [
        "data[:5]"
      ],
      "metadata": {
        "colab": {
          "base_uri": "https://localhost:8080/"
        },
        "id": "ZiMyjxsJ0PGu",
        "outputId": "8cc94b73-085d-413f-8dcf-168e11872899"
      },
      "execution_count": 27,
      "outputs": [
        {
          "output_type": "execute_result",
          "data": {
            "text/plain": [
              "array([['06-10-2017', '5464', 'Neutral', '181', '5', 'Inactive'],\n",
              "       ['07-10-2017', '6041', 'Sad', '197', '8', 'Inactive'],\n",
              "       ['08-10-2017', '25', 'Sad', '0', '5', 'Inactive'],\n",
              "       ['09-10-2017', '5461', 'Sad', '174', '4', 'Inactive'],\n",
              "       ['10-10-2017', '6915', 'Neutral', '223', '5', 'Active']],\n",
              "      dtype='<U10')"
            ]
          },
          "metadata": {},
          "execution_count": 27
        }
      ]
    },
    {
      "cell_type": "code",
      "source": [
        "step_count = data[: , 1]\n",
        "print(step_count)"
      ],
      "metadata": {
        "colab": {
          "base_uri": "https://localhost:8080/"
        },
        "id": "BRqi83Cz0TUB",
        "outputId": "323cab2e-ccde-4d4c-caf3-fa43bffeab4b"
      },
      "execution_count": 28,
      "outputs": [
        {
          "output_type": "stream",
          "name": "stdout",
          "text": [
            "['5464' '6041' '25' '5461' '6915' '4545' '4340' '1230' '61' '1258' '3148'\n",
            " '4687' '4732' '3519' '1580' '2822' '181' '3158' '4383' '3881' '4037'\n",
            " '202' '292' '330' '2209' '4550' '4435' '4779' '1831' '2255' '539' '5464'\n",
            " '6041' '4068' '4683' '4033' '6314' '614' '3149' '4005' '4880' '4136'\n",
            " '705' '570' '269' '4275' '5999' '4421' '6930' '5195' '546' '493' '995'\n",
            " '1163' '6676' '3608' '774' '1421' '4064' '2725' '5934' '1867' '3721'\n",
            " '2374' '2909' '1648' '799' '7102' '3941' '7422' '437' '1231' '1696'\n",
            " '4921' '221' '6500' '3575' '4061' '651' '753' '518' '5537' '4108' '5376'\n",
            " '3066' '177' '36' '299' '1447' '2599' '702' '133' '153' '500' '2127'\n",
            " '2203']\n"
          ]
        }
      ]
    },
    {
      "cell_type": "code",
      "source": [
        "step_count = np.array(step_count, dtype = \"int\")\n",
        "print(step_count)"
      ],
      "metadata": {
        "colab": {
          "base_uri": "https://localhost:8080/"
        },
        "id": "PdCyWgt90xYK",
        "outputId": "25c9bd9e-098f-412c-dacd-8c628adf1400"
      },
      "execution_count": 29,
      "outputs": [
        {
          "output_type": "stream",
          "name": "stdout",
          "text": [
            "[5464 6041   25 5461 6915 4545 4340 1230   61 1258 3148 4687 4732 3519\n",
            " 1580 2822  181 3158 4383 3881 4037  202  292  330 2209 4550 4435 4779\n",
            " 1831 2255  539 5464 6041 4068 4683 4033 6314  614 3149 4005 4880 4136\n",
            "  705  570  269 4275 5999 4421 6930 5195  546  493  995 1163 6676 3608\n",
            "  774 1421 4064 2725 5934 1867 3721 2374 2909 1648  799 7102 3941 7422\n",
            "  437 1231 1696 4921  221 6500 3575 4061  651  753  518 5537 4108 5376\n",
            " 3066  177   36  299 1447 2599  702  133  153  500 2127 2203]\n"
          ]
        }
      ]
    },
    {
      "cell_type": "code",
      "source": [
        "mood = data[:, 2]\n",
        "print(mood)"
      ],
      "metadata": {
        "colab": {
          "base_uri": "https://localhost:8080/"
        },
        "id": "7ba04Eq51CYf",
        "outputId": "919dd0cf-962e-4498-f7f5-2d00fe9fc6de"
      },
      "execution_count": 30,
      "outputs": [
        {
          "output_type": "stream",
          "name": "stdout",
          "text": [
            "['Neutral' 'Sad' 'Sad' 'Sad' 'Neutral' 'Sad' 'Sad' 'Sad' 'Sad' 'Sad' 'Sad'\n",
            " 'Sad' 'Happy' 'Sad' 'Sad' 'Sad' 'Sad' 'Neutral' 'Neutral' 'Neutral'\n",
            " 'Neutral' 'Neutral' 'Neutral' 'Happy' 'Neutral' 'Happy' 'Happy' 'Happy'\n",
            " 'Happy' 'Happy' 'Happy' 'Happy' 'Neutral' 'Happy' 'Happy' 'Happy' 'Happy'\n",
            " 'Happy' 'Happy' 'Happy' 'Happy' 'Happy' 'Happy' 'Neutral' 'Happy' 'Happy'\n",
            " 'Happy' 'Happy' 'Happy' 'Happy' 'Happy' 'Happy' 'Happy' 'Neutral' 'Sad'\n",
            " 'Happy' 'Happy' 'Happy' 'Happy' 'Happy' 'Happy' 'Happy' 'Sad' 'Neutral'\n",
            " 'Neutral' 'Sad' 'Sad' 'Neutral' 'Neutral' 'Happy' 'Neutral' 'Neutral'\n",
            " 'Sad' 'Neutral' 'Sad' 'Neutral' 'Neutral' 'Sad' 'Sad' 'Sad' 'Sad' 'Happy'\n",
            " 'Neutral' 'Happy' 'Neutral' 'Sad' 'Sad' 'Sad' 'Neutral' 'Neutral' 'Sad'\n",
            " 'Sad' 'Happy' 'Neutral' 'Neutral' 'Happy']\n"
          ]
        }
      ]
    },
    {
      "cell_type": "code",
      "source": [
        "mood == \"Happy\""
      ],
      "metadata": {
        "colab": {
          "base_uri": "https://localhost:8080/"
        },
        "id": "ROY_brTL1QqD",
        "outputId": "98ac0d60-6173-4fc0-d465-90bbfe755e5f"
      },
      "execution_count": 31,
      "outputs": [
        {
          "output_type": "execute_result",
          "data": {
            "text/plain": [
              "array([False, False, False, False, False, False, False, False, False,\n",
              "       False, False, False,  True, False, False, False, False, False,\n",
              "       False, False, False, False, False,  True, False,  True,  True,\n",
              "        True,  True,  True,  True,  True, False,  True,  True,  True,\n",
              "        True,  True,  True,  True,  True,  True,  True, False,  True,\n",
              "        True,  True,  True,  True,  True,  True,  True,  True, False,\n",
              "       False,  True,  True,  True,  True,  True,  True,  True, False,\n",
              "       False, False, False, False, False, False,  True, False, False,\n",
              "       False, False, False, False, False, False, False, False, False,\n",
              "        True, False,  True, False, False, False, False, False, False,\n",
              "       False, False,  True, False, False,  True])"
            ]
          },
          "metadata": {},
          "execution_count": 31
        }
      ]
    },
    {
      "cell_type": "code",
      "source": [
        "step_count_happy = step_count[ mood == \"Happy\"] #step count where the mood was Happy\n",
        "print(step_count_happy)"
      ],
      "metadata": {
        "colab": {
          "base_uri": "https://localhost:8080/"
        },
        "id": "x7FimANX1Yu3",
        "outputId": "4ac7ab17-c4f8-4a7e-d0b6-dc283f0ff53e"
      },
      "execution_count": 33,
      "outputs": [
        {
          "output_type": "stream",
          "name": "stdout",
          "text": [
            "[4732  330 4550 4435 4779 1831 2255  539 5464 4068 4683 4033 6314  614\n",
            " 3149 4005 4880 4136  705  269 4275 5999 4421 6930 5195  546  493  995\n",
            " 3608  774 1421 4064 2725 5934 1867 7422 5537 5376  153 2203]\n"
          ]
        }
      ]
    },
    {
      "cell_type": "code",
      "source": [
        "len(step_count_happy)"
      ],
      "metadata": {
        "colab": {
          "base_uri": "https://localhost:8080/"
        },
        "id": "BD-wGo7t1uBi",
        "outputId": "384dc3f9-a911-4964-a6f4-16e6af1a92cf"
      },
      "execution_count": 35,
      "outputs": [
        {
          "output_type": "execute_result",
          "data": {
            "text/plain": [
              "40"
            ]
          },
          "metadata": {},
          "execution_count": 35
        }
      ]
    },
    {
      "cell_type": "code",
      "source": [
        "step_count_sad = step_count[ mood == \"Sad\"]\n",
        "len(step_count_sad)"
      ],
      "metadata": {
        "colab": {
          "base_uri": "https://localhost:8080/"
        },
        "id": "pY5KnWfr2P-O",
        "outputId": "2dcaa8a4-c657-4ce0-83c7-f47d80d32c5d"
      },
      "execution_count": 36,
      "outputs": [
        {
          "output_type": "execute_result",
          "data": {
            "text/plain": [
              "29"
            ]
          },
          "metadata": {},
          "execution_count": 36
        }
      ]
    },
    {
      "cell_type": "code",
      "source": [
        "step_count_neutral = step_count[ mood == \"Neutral\"]\n",
        "len(step_count_neutral)"
      ],
      "metadata": {
        "colab": {
          "base_uri": "https://localhost:8080/"
        },
        "id": "CAWKBf3J2bdO",
        "outputId": "a2565dd5-8976-41da-bd8b-6b343f70752d"
      },
      "execution_count": 37,
      "outputs": [
        {
          "output_type": "execute_result",
          "data": {
            "text/plain": [
              "27"
            ]
          },
          "metadata": {},
          "execution_count": 37
        }
      ]
    },
    {
      "cell_type": "code",
      "source": [],
      "metadata": {
        "colab": {
          "base_uri": "https://localhost:8080/",
          "height": 179
        },
        "id": "F_unFyRG2id2",
        "outputId": "83baa712-ac1f-42fc-8f1c-2dd8aa842bb3"
      },
      "execution_count": 38,
      "outputs": [
        {
          "output_type": "error",
          "ename": "IndexError",
          "evalue": "ignored",
          "traceback": [
            "\u001b[0;31m---------------------------------------------------------------------------\u001b[0m",
            "\u001b[0;31mIndexError\u001b[0m                                Traceback (most recent call last)",
            "\u001b[0;32m<ipython-input-38-9d2ff0553f7d>\u001b[0m in \u001b[0;36m<cell line: 1>\u001b[0;34m()\u001b[0m\n\u001b[0;32m----> 1\u001b[0;31m \u001b[0mstep_count\u001b[0m\u001b[0;34m[\u001b[0m\u001b[0;34m[\u001b[0m\u001b[0;32mTrue\u001b[0m\u001b[0;34m,\u001b[0m \u001b[0;32mFalse\u001b[0m\u001b[0;34m]\u001b[0m\u001b[0;34m]\u001b[0m\u001b[0;34m\u001b[0m\u001b[0;34m\u001b[0m\u001b[0m\n\u001b[0m",
            "\u001b[0;31mIndexError\u001b[0m: boolean index did not match indexed array along dimension 0; dimension is 96 but corresponding boolean dimension is 2"
          ]
        }
      ]
    },
    {
      "cell_type": "code",
      "source": [
        "mood"
      ],
      "metadata": {
        "colab": {
          "base_uri": "https://localhost:8080/"
        },
        "id": "Nx-rQdbF24Pq",
        "outputId": "bf8aa1cf-4f81-4627-a2dd-5104f6411a47"
      },
      "execution_count": 39,
      "outputs": [
        {
          "output_type": "execute_result",
          "data": {
            "text/plain": [
              "array(['Neutral', 'Sad', 'Sad', 'Sad', 'Neutral', 'Sad', 'Sad', 'Sad',\n",
              "       'Sad', 'Sad', 'Sad', 'Sad', 'Happy', 'Sad', 'Sad', 'Sad', 'Sad',\n",
              "       'Neutral', 'Neutral', 'Neutral', 'Neutral', 'Neutral', 'Neutral',\n",
              "       'Happy', 'Neutral', 'Happy', 'Happy', 'Happy', 'Happy', 'Happy',\n",
              "       'Happy', 'Happy', 'Neutral', 'Happy', 'Happy', 'Happy', 'Happy',\n",
              "       'Happy', 'Happy', 'Happy', 'Happy', 'Happy', 'Happy', 'Neutral',\n",
              "       'Happy', 'Happy', 'Happy', 'Happy', 'Happy', 'Happy', 'Happy',\n",
              "       'Happy', 'Happy', 'Neutral', 'Sad', 'Happy', 'Happy', 'Happy',\n",
              "       'Happy', 'Happy', 'Happy', 'Happy', 'Sad', 'Neutral', 'Neutral',\n",
              "       'Sad', 'Sad', 'Neutral', 'Neutral', 'Happy', 'Neutral', 'Neutral',\n",
              "       'Sad', 'Neutral', 'Sad', 'Neutral', 'Neutral', 'Sad', 'Sad', 'Sad',\n",
              "       'Sad', 'Happy', 'Neutral', 'Happy', 'Neutral', 'Sad', 'Sad', 'Sad',\n",
              "       'Neutral', 'Neutral', 'Sad', 'Sad', 'Happy', 'Neutral', 'Neutral',\n",
              "       'Happy'], dtype='<U10')"
            ]
          },
          "metadata": {},
          "execution_count": 39
        }
      ]
    },
    {
      "cell_type": "code",
      "source": [
        "mood == \"Happy\""
      ],
      "metadata": {
        "colab": {
          "base_uri": "https://localhost:8080/"
        },
        "id": "sewZzhc82_V6",
        "outputId": "8ce9c616-7060-4b6f-ae75-d094a6164de8"
      },
      "execution_count": 40,
      "outputs": [
        {
          "output_type": "execute_result",
          "data": {
            "text/plain": [
              "array([False, False, False, False, False, False, False, False, False,\n",
              "       False, False, False,  True, False, False, False, False, False,\n",
              "       False, False, False, False, False,  True, False,  True,  True,\n",
              "        True,  True,  True,  True,  True, False,  True,  True,  True,\n",
              "        True,  True,  True,  True,  True,  True,  True, False,  True,\n",
              "        True,  True,  True,  True,  True,  True,  True,  True, False,\n",
              "       False,  True,  True,  True,  True,  True,  True,  True, False,\n",
              "       False, False, False, False, False, False,  True, False, False,\n",
              "       False, False, False, False, False, False, False, False, False,\n",
              "        True, False,  True, False, False, False, False, False, False,\n",
              "       False, False,  True, False, False,  True])"
            ]
          },
          "metadata": {},
          "execution_count": 40
        }
      ]
    },
    {
      "cell_type": "code",
      "source": [],
      "metadata": {
        "id": "f9Cy2MTp3CVJ"
      },
      "execution_count": 41,
      "outputs": []
    },
    {
      "cell_type": "code",
      "source": [
        "#step count when the person was either happy or neutral"
      ],
      "metadata": {
        "id": "DKAtpNQj3HCx"
      },
      "execution_count": 42,
      "outputs": []
    },
    {
      "cell_type": "code",
      "source": [
        "step_count_happy_or_neutral = step_count[(mood == \"Happy\") | (mood == \"Neutral\") ] #| --> or, & --> and"
      ],
      "metadata": {
        "id": "uIG1kIJv3Ssz"
      },
      "execution_count": 43,
      "outputs": []
    },
    {
      "cell_type": "code",
      "source": [
        "len(step_count_happy_or_neutral)"
      ],
      "metadata": {
        "colab": {
          "base_uri": "https://localhost:8080/"
        },
        "id": "tp5bNlvs32vW",
        "outputId": "f746a9db-b096-4888-c9fe-c7e0ce29bbc6"
      },
      "execution_count": 44,
      "outputs": [
        {
          "output_type": "execute_result",
          "data": {
            "text/plain": [
              "67"
            ]
          },
          "metadata": {},
          "execution_count": 44
        }
      ]
    },
    {
      "cell_type": "code",
      "source": [
        "#avg steps when mood is sad"
      ],
      "metadata": {
        "id": "4712R1AI386C"
      },
      "execution_count": 45,
      "outputs": []
    },
    {
      "cell_type": "code",
      "source": [
        "sad_avg_steps = np.mean(step_count_sad)"
      ],
      "metadata": {
        "id": "pwUyxhLI4F-X"
      },
      "execution_count": 46,
      "outputs": []
    },
    {
      "cell_type": "code",
      "source": [
        "print(sad_avg_steps)"
      ],
      "metadata": {
        "colab": {
          "base_uri": "https://localhost:8080/"
        },
        "id": "iNNxdgAR4L5H",
        "outputId": "8cbb04a6-e9f0-48c4-d006-f778362db2fc"
      },
      "execution_count": 47,
      "outputs": [
        {
          "output_type": "stream",
          "name": "stdout",
          "text": [
            "2103.0689655172414\n"
          ]
        }
      ]
    },
    {
      "cell_type": "code",
      "source": [
        "happy_neutral_avg_steps = np.mean(step_count_happy_or_neutral)\n",
        "print(happy_neutral_avg_steps)"
      ],
      "metadata": {
        "colab": {
          "base_uri": "https://localhost:8080/"
        },
        "id": "ztE7rAd_4Nto",
        "outputId": "fae1a71a-e960-4c9c-fb69-aad12558e669"
      },
      "execution_count": 48,
      "outputs": [
        {
          "output_type": "stream",
          "name": "stdout",
          "text": [
            "3296.4328358208954\n"
          ]
        }
      ]
    },
    {
      "cell_type": "code",
      "source": [
        "happy_avg_steps = np.mean(step_count_happy)\n",
        "\n",
        "happy_avg_steps = np.round(happy_avg_steps, 2)"
      ],
      "metadata": {
        "id": "wGyG6_oT4XdS"
      },
      "execution_count": 49,
      "outputs": []
    },
    {
      "cell_type": "code",
      "source": [
        "print(happy_avg_steps)"
      ],
      "metadata": {
        "colab": {
          "base_uri": "https://localhost:8080/"
        },
        "id": "9TdFLFQ54nFo",
        "outputId": "a392c932-a3d8-4c7e-dd4e-fe9aab46eb57"
      },
      "execution_count": 50,
      "outputs": [
        {
          "output_type": "stream",
          "name": "stdout",
          "text": [
            "3392.72\n"
          ]
        }
      ]
    },
    {
      "cell_type": "code",
      "source": [
        "neutral_avg_steps = np.mean(step_count_neutral)\n",
        "\n",
        "neutral_avg_steps = np.round(neutral_avg_steps, 2)"
      ],
      "metadata": {
        "id": "8z9eOcS34oVC"
      },
      "execution_count": 51,
      "outputs": []
    },
    {
      "cell_type": "code",
      "source": [
        "print(neutral_avg_steps)"
      ],
      "metadata": {
        "colab": {
          "base_uri": "https://localhost:8080/"
        },
        "id": "-kttOPFq4yQP",
        "outputId": "e4abb833-d746-4cb4-d0e0-078927fbc21e"
      },
      "execution_count": 52,
      "outputs": [
        {
          "output_type": "stream",
          "name": "stdout",
          "text": [
            "3153.78\n"
          ]
        }
      ]
    },
    {
      "cell_type": "code",
      "source": [
        "dates == '06-10-2017'\n"
      ],
      "metadata": {
        "colab": {
          "base_uri": "https://localhost:8080/"
        },
        "id": "7b_AozgB5qBm",
        "outputId": "20e7a58c-0054-4060-a6f5-12d3ca27bf9f"
      },
      "execution_count": 53,
      "outputs": [
        {
          "output_type": "execute_result",
          "data": {
            "text/plain": [
              "array([ True, False, False, False, False, False, False, False, False,\n",
              "       False, False, False, False, False, False, False, False, False,\n",
              "       False, False, False, False, False, False, False, False, False,\n",
              "       False, False, False, False, False, False, False, False, False,\n",
              "       False, False, False, False, False, False, False, False, False,\n",
              "       False, False, False, False, False, False, False, False, False,\n",
              "       False, False, False, False, False, False, False, False, False,\n",
              "       False, False, False, False, False, False, False, False, False,\n",
              "       False, False, False, False, False, False, False, False, False,\n",
              "       False, False, False, False, False, False, False, False, False,\n",
              "       False, False, False, False, False, False])"
            ]
          },
          "metadata": {},
          "execution_count": 53
        }
      ]
    },
    {
      "cell_type": "code",
      "source": [
        "#filter out mood on '06-10-2017'\n",
        "\n",
        "new_mood = mood[ dates == '06-10-2017' ]\n",
        "print(new_mood)"
      ],
      "metadata": {
        "colab": {
          "base_uri": "https://localhost:8080/"
        },
        "id": "OZqleleg40Yp",
        "outputId": "5e3eb089-a53e-4f00-bb76-a572eacd588f"
      },
      "execution_count": 55,
      "outputs": [
        {
          "output_type": "stream",
          "name": "stdout",
          "text": [
            "['Neutral']\n"
          ]
        }
      ]
    },
    {
      "cell_type": "code",
      "source": [
        "a = np.array([5, 7, 3])\n",
        "\n",
        "a == 7"
      ],
      "metadata": {
        "colab": {
          "base_uri": "https://localhost:8080/"
        },
        "id": "k2sNHPo45w32",
        "outputId": "cfd25d04-0935-4f35-cf53-c3322ca218ef"
      },
      "execution_count": 58,
      "outputs": [
        {
          "output_type": "execute_result",
          "data": {
            "text/plain": [
              "array([False,  True, False])"
            ]
          },
          "metadata": {},
          "execution_count": 58
        }
      ]
    },
    {
      "cell_type": "code",
      "source": [
        "a[ a == 7 ]"
      ],
      "metadata": {
        "colab": {
          "base_uri": "https://localhost:8080/"
        },
        "id": "wgiWZHHF9TDJ",
        "outputId": "7d47fb74-aafd-4446-d15b-3a184e549146"
      },
      "execution_count": 59,
      "outputs": [
        {
          "output_type": "execute_result",
          "data": {
            "text/plain": [
              "array([7])"
            ]
          },
          "metadata": {},
          "execution_count": 59
        }
      ]
    },
    {
      "cell_type": "code",
      "source": [],
      "metadata": {
        "id": "30vF26xR9fUF"
      },
      "execution_count": null,
      "outputs": []
    },
    {
      "cell_type": "code",
      "source": [],
      "metadata": {
        "id": "W8JATBLM9lqR"
      },
      "execution_count": null,
      "outputs": []
    },
    {
      "cell_type": "code",
      "source": [
        "#genral concepts"
      ],
      "metadata": {
        "id": "2Z23l81a9ljP"
      },
      "execution_count": 60,
      "outputs": []
    },
    {
      "cell_type": "code",
      "source": [
        "b = np.arange(16)\n",
        "print(b)"
      ],
      "metadata": {
        "colab": {
          "base_uri": "https://localhost:8080/"
        },
        "id": "ncWq3JqV9r9N",
        "outputId": "8d1beb6c-f31e-425e-9995-9a777d41a0eb"
      },
      "execution_count": 61,
      "outputs": [
        {
          "output_type": "stream",
          "name": "stdout",
          "text": [
            "[ 0  1  2  3  4  5  6  7  8  9 10 11 12 13 14 15]\n"
          ]
        }
      ]
    },
    {
      "cell_type": "code",
      "source": [
        "b.ndim"
      ],
      "metadata": {
        "colab": {
          "base_uri": "https://localhost:8080/"
        },
        "id": "RTAhzXhJ9u-i",
        "outputId": "d5019b17-91d5-41c0-bea3-cb37f9e8f05e"
      },
      "execution_count": 62,
      "outputs": [
        {
          "output_type": "execute_result",
          "data": {
            "text/plain": [
              "1"
            ]
          },
          "metadata": {},
          "execution_count": 62
        }
      ]
    },
    {
      "cell_type": "code",
      "source": [
        "b.shape"
      ],
      "metadata": {
        "colab": {
          "base_uri": "https://localhost:8080/"
        },
        "id": "Uq_zsU9W9yGO",
        "outputId": "0670ccd4-1651-4091-e4d6-55f2b1b9c563"
      },
      "execution_count": 63,
      "outputs": [
        {
          "output_type": "execute_result",
          "data": {
            "text/plain": [
              "(16,)"
            ]
          },
          "metadata": {},
          "execution_count": 63
        }
      ]
    },
    {
      "cell_type": "code",
      "source": [
        "c = b.reshape(8, 2)"
      ],
      "metadata": {
        "id": "wGNmDOcA91xE"
      },
      "execution_count": 64,
      "outputs": []
    },
    {
      "cell_type": "code",
      "source": [
        "print(b)"
      ],
      "metadata": {
        "colab": {
          "base_uri": "https://localhost:8080/"
        },
        "id": "4QfWhVFJ-Dju",
        "outputId": "2bf8c2ed-95df-418a-8f95-b205780f7008"
      },
      "execution_count": 65,
      "outputs": [
        {
          "output_type": "stream",
          "name": "stdout",
          "text": [
            "[ 0  1  2  3  4  5  6  7  8  9 10 11 12 13 14 15]\n"
          ]
        }
      ]
    },
    {
      "cell_type": "code",
      "source": [
        "print(c)"
      ],
      "metadata": {
        "colab": {
          "base_uri": "https://localhost:8080/"
        },
        "id": "N6TDNtsv-EdM",
        "outputId": "2b76ffba-7f58-44ff-8bcb-4a72cd0bd565"
      },
      "execution_count": 66,
      "outputs": [
        {
          "output_type": "stream",
          "name": "stdout",
          "text": [
            "[[ 0  1]\n",
            " [ 2  3]\n",
            " [ 4  5]\n",
            " [ 6  7]\n",
            " [ 8  9]\n",
            " [10 11]\n",
            " [12 13]\n",
            " [14 15]]\n"
          ]
        }
      ]
    },
    {
      "cell_type": "code",
      "source": [
        "d = b.reshape(8, 3)"
      ],
      "metadata": {
        "colab": {
          "base_uri": "https://localhost:8080/",
          "height": 179
        },
        "id": "DMPZvR_F-F8U",
        "outputId": "0209e4bd-5e1c-449b-cd8e-d6f538f8aea3"
      },
      "execution_count": 67,
      "outputs": [
        {
          "output_type": "error",
          "ename": "ValueError",
          "evalue": "ignored",
          "traceback": [
            "\u001b[0;31m---------------------------------------------------------------------------\u001b[0m",
            "\u001b[0;31mValueError\u001b[0m                                Traceback (most recent call last)",
            "\u001b[0;32m<ipython-input-67-95e0503b4e20>\u001b[0m in \u001b[0;36m<cell line: 1>\u001b[0;34m()\u001b[0m\n\u001b[0;32m----> 1\u001b[0;31m \u001b[0md\u001b[0m \u001b[0;34m=\u001b[0m \u001b[0mb\u001b[0m\u001b[0;34m.\u001b[0m\u001b[0mreshape\u001b[0m\u001b[0;34m(\u001b[0m\u001b[0;36m8\u001b[0m\u001b[0;34m,\u001b[0m \u001b[0;36m3\u001b[0m\u001b[0;34m)\u001b[0m\u001b[0;34m\u001b[0m\u001b[0;34m\u001b[0m\u001b[0m\n\u001b[0m",
            "\u001b[0;31mValueError\u001b[0m: cannot reshape array of size 16 into shape (8,3)"
          ]
        }
      ]
    },
    {
      "cell_type": "code",
      "source": [
        "d = b.reshape(4, 4)\n",
        "print(d)"
      ],
      "metadata": {
        "colab": {
          "base_uri": "https://localhost:8080/"
        },
        "id": "3NKChHjX-aPg",
        "outputId": "10893074-18e3-42b8-d4f7-7b6f1a48d8ad"
      },
      "execution_count": 68,
      "outputs": [
        {
          "output_type": "stream",
          "name": "stdout",
          "text": [
            "[[ 0  1  2  3]\n",
            " [ 4  5  6  7]\n",
            " [ 8  9 10 11]\n",
            " [12 13 14 15]]\n"
          ]
        }
      ]
    },
    {
      "cell_type": "code",
      "source": [
        "d = b.reshape(8, -1)\n",
        "print(d)"
      ],
      "metadata": {
        "colab": {
          "base_uri": "https://localhost:8080/"
        },
        "id": "W5m44NQL-jJe",
        "outputId": "373cc6b6-98fb-49b2-d4a0-0ee10b2cc5aa"
      },
      "execution_count": 70,
      "outputs": [
        {
          "output_type": "stream",
          "name": "stdout",
          "text": [
            "[[ 0  1]\n",
            " [ 2  3]\n",
            " [ 4  5]\n",
            " [ 6  7]\n",
            " [ 8  9]\n",
            " [10 11]\n",
            " [12 13]\n",
            " [14 15]]\n"
          ]
        }
      ]
    },
    {
      "cell_type": "code",
      "source": [
        "d.ndim"
      ],
      "metadata": {
        "colab": {
          "base_uri": "https://localhost:8080/"
        },
        "id": "vIzv5bya-2G7",
        "outputId": "52fd3920-6a24-4b31-f0b0-b73cf661f215"
      },
      "execution_count": 71,
      "outputs": [
        {
          "output_type": "execute_result",
          "data": {
            "text/plain": [
              "2"
            ]
          },
          "metadata": {},
          "execution_count": 71
        }
      ]
    },
    {
      "cell_type": "code",
      "source": [
        "d.shape"
      ],
      "metadata": {
        "colab": {
          "base_uri": "https://localhost:8080/"
        },
        "id": "sG6YR1e9-_SR",
        "outputId": "7673cbb2-4b67-46f4-e7ef-aef6ed8e7f13"
      },
      "execution_count": 72,
      "outputs": [
        {
          "output_type": "execute_result",
          "data": {
            "text/plain": [
              "(8, 2)"
            ]
          },
          "metadata": {},
          "execution_count": 72
        }
      ]
    },
    {
      "cell_type": "code",
      "source": [
        "d = b.reshape(4,-5)\n",
        "print(d)"
      ],
      "metadata": {
        "colab": {
          "base_uri": "https://localhost:8080/"
        },
        "id": "fqcyHA_4_Ce5",
        "outputId": "894413cf-5343-490b-d741-75d96c4441be"
      },
      "execution_count": 73,
      "outputs": [
        {
          "output_type": "stream",
          "name": "stdout",
          "text": [
            "[[ 0  1  2  3]\n",
            " [ 4  5  6  7]\n",
            " [ 8  9 10 11]\n",
            " [12 13 14 15]]\n"
          ]
        }
      ]
    },
    {
      "cell_type": "code",
      "source": [
        "d[0]"
      ],
      "metadata": {
        "colab": {
          "base_uri": "https://localhost:8080/"
        },
        "id": "yD_GDSOn_LL_",
        "outputId": "d0f898da-3bd9-4f67-cac2-dc4cdf0b40fe"
      },
      "execution_count": 74,
      "outputs": [
        {
          "output_type": "execute_result",
          "data": {
            "text/plain": [
              "array([0, 1, 2, 3])"
            ]
          },
          "metadata": {},
          "execution_count": 74
        }
      ]
    },
    {
      "cell_type": "code",
      "source": [
        "print(b)"
      ],
      "metadata": {
        "colab": {
          "base_uri": "https://localhost:8080/"
        },
        "id": "UJ0OwpOh_Tpe",
        "outputId": "be19332a-38e4-4e9d-e870-7944335f7db1"
      },
      "execution_count": 75,
      "outputs": [
        {
          "output_type": "stream",
          "name": "stdout",
          "text": [
            "[ 0  1  2  3  4  5  6  7  8  9 10 11 12 13 14 15]\n"
          ]
        }
      ]
    },
    {
      "cell_type": "code",
      "source": [
        "d = b.reshape(-1, 8)\n",
        "print(d)"
      ],
      "metadata": {
        "colab": {
          "base_uri": "https://localhost:8080/"
        },
        "id": "ayWWcp-x_X1F",
        "outputId": "2fb95644-2eb5-4d46-d900-bf29dd4e364a"
      },
      "execution_count": 76,
      "outputs": [
        {
          "output_type": "stream",
          "name": "stdout",
          "text": [
            "[[ 0  1  2  3  4  5  6  7]\n",
            " [ 8  9 10 11 12 13 14 15]]\n"
          ]
        }
      ]
    },
    {
      "cell_type": "code",
      "source": [
        "d.shape"
      ],
      "metadata": {
        "colab": {
          "base_uri": "https://localhost:8080/"
        },
        "id": "VOAsDYsa_g4N",
        "outputId": "43dbbcef-97b5-4df2-f0a8-e3d7927f91e7"
      },
      "execution_count": 77,
      "outputs": [
        {
          "output_type": "execute_result",
          "data": {
            "text/plain": [
              "(2, 8)"
            ]
          },
          "metadata": {},
          "execution_count": 77
        }
      ]
    },
    {
      "cell_type": "code",
      "source": [
        "d = b.reshape(-1, 10)\n",
        "print(d)"
      ],
      "metadata": {
        "colab": {
          "base_uri": "https://localhost:8080/",
          "height": 197
        },
        "id": "psufCrE8_ix2",
        "outputId": "7052c26d-32b7-4419-a5b7-e60a7540f598"
      },
      "execution_count": 78,
      "outputs": [
        {
          "output_type": "error",
          "ename": "ValueError",
          "evalue": "ignored",
          "traceback": [
            "\u001b[0;31m---------------------------------------------------------------------------\u001b[0m",
            "\u001b[0;31mValueError\u001b[0m                                Traceback (most recent call last)",
            "\u001b[0;32m<ipython-input-78-3f71b51e7d91>\u001b[0m in \u001b[0;36m<cell line: 1>\u001b[0;34m()\u001b[0m\n\u001b[0;32m----> 1\u001b[0;31m \u001b[0md\u001b[0m \u001b[0;34m=\u001b[0m \u001b[0mb\u001b[0m\u001b[0;34m.\u001b[0m\u001b[0mreshape\u001b[0m\u001b[0;34m(\u001b[0m\u001b[0;34m-\u001b[0m\u001b[0;36m1\u001b[0m\u001b[0;34m,\u001b[0m \u001b[0;36m10\u001b[0m\u001b[0;34m)\u001b[0m\u001b[0;34m\u001b[0m\u001b[0;34m\u001b[0m\u001b[0m\n\u001b[0m\u001b[1;32m      2\u001b[0m \u001b[0mprint\u001b[0m\u001b[0;34m(\u001b[0m\u001b[0md\u001b[0m\u001b[0;34m)\u001b[0m\u001b[0;34m\u001b[0m\u001b[0;34m\u001b[0m\u001b[0m\n",
            "\u001b[0;31mValueError\u001b[0m: cannot reshape array of size 16 into shape (10)"
          ]
        }
      ]
    },
    {
      "cell_type": "code",
      "source": [
        "d = b.reshape(4,4)\n",
        "print(d)"
      ],
      "metadata": {
        "colab": {
          "base_uri": "https://localhost:8080/"
        },
        "id": "sfzWOVYD_oNt",
        "outputId": "e7787158-be94-48b2-b1c2-8c75900b44cb"
      },
      "execution_count": 79,
      "outputs": [
        {
          "output_type": "stream",
          "name": "stdout",
          "text": [
            "[[ 0  1  2  3]\n",
            " [ 4  5  6  7]\n",
            " [ 8  9 10 11]\n",
            " [12 13 14 15]]\n"
          ]
        }
      ]
    },
    {
      "cell_type": "code",
      "source": [
        "print(d[0])"
      ],
      "metadata": {
        "colab": {
          "base_uri": "https://localhost:8080/"
        },
        "id": "1brlCs6__yMK",
        "outputId": "ffcdf3c5-ce8c-4cf8-d5a4-a1705689e2c9"
      },
      "execution_count": 80,
      "outputs": [
        {
          "output_type": "stream",
          "name": "stdout",
          "text": [
            "[0 1 2 3]\n"
          ]
        }
      ]
    },
    {
      "cell_type": "code",
      "source": [
        "print(d[0][2])"
      ],
      "metadata": {
        "colab": {
          "base_uri": "https://localhost:8080/"
        },
        "id": "P963vnW1_48G",
        "outputId": "7d043fce-c882-4682-9e09-cc0d3fc1a070"
      },
      "execution_count": 81,
      "outputs": [
        {
          "output_type": "stream",
          "name": "stdout",
          "text": [
            "2\n"
          ]
        }
      ]
    },
    {
      "cell_type": "code",
      "source": [
        "print(d[0 , 2])"
      ],
      "metadata": {
        "colab": {
          "base_uri": "https://localhost:8080/"
        },
        "id": "cyD_sGKs_9no",
        "outputId": "c9b8ec6a-eb37-4e11-cacc-c7df97552e0e"
      },
      "execution_count": 82,
      "outputs": [
        {
          "output_type": "stream",
          "name": "stdout",
          "text": [
            "2\n"
          ]
        }
      ]
    },
    {
      "cell_type": "code",
      "source": [
        "print(d[2, 3])"
      ],
      "metadata": {
        "colab": {
          "base_uri": "https://localhost:8080/"
        },
        "id": "Lsg02X88AKff",
        "outputId": "98dbc580-519f-417d-dd80-5dee6eb5e6c2"
      },
      "execution_count": 83,
      "outputs": [
        {
          "output_type": "stream",
          "name": "stdout",
          "text": [
            "11\n"
          ]
        }
      ]
    },
    {
      "cell_type": "code",
      "source": [
        "print(d[2, 4])"
      ],
      "metadata": {
        "colab": {
          "base_uri": "https://localhost:8080/",
          "height": 179
        },
        "id": "WHLcX3e-APZ1",
        "outputId": "a26ab2f9-0253-4216-bfb9-be9e46dbd27d"
      },
      "execution_count": 84,
      "outputs": [
        {
          "output_type": "error",
          "ename": "IndexError",
          "evalue": "ignored",
          "traceback": [
            "\u001b[0;31m---------------------------------------------------------------------------\u001b[0m",
            "\u001b[0;31mIndexError\u001b[0m                                Traceback (most recent call last)",
            "\u001b[0;32m<ipython-input-84-269e5957bd37>\u001b[0m in \u001b[0;36m<cell line: 1>\u001b[0;34m()\u001b[0m\n\u001b[0;32m----> 1\u001b[0;31m \u001b[0mprint\u001b[0m\u001b[0;34m(\u001b[0m\u001b[0md\u001b[0m\u001b[0;34m[\u001b[0m\u001b[0;36m2\u001b[0m\u001b[0;34m,\u001b[0m \u001b[0;36m4\u001b[0m\u001b[0;34m]\u001b[0m\u001b[0;34m)\u001b[0m\u001b[0;34m\u001b[0m\u001b[0;34m\u001b[0m\u001b[0m\n\u001b[0m",
            "\u001b[0;31mIndexError\u001b[0m: index 4 is out of bounds for axis 1 with size 4"
          ]
        }
      ]
    },
    {
      "cell_type": "code",
      "source": [
        "a = np.arange(12).reshape(3,4)\n",
        "print(a)"
      ],
      "metadata": {
        "colab": {
          "base_uri": "https://localhost:8080/"
        },
        "id": "AlKMl7UwATgT",
        "outputId": "51e610e9-984d-4177-c25d-ea1c6fcbb18c"
      },
      "execution_count": 85,
      "outputs": [
        {
          "output_type": "stream",
          "name": "stdout",
          "text": [
            "[[ 0  1  2  3]\n",
            " [ 4  5  6  7]\n",
            " [ 8  9 10 11]]\n"
          ]
        }
      ]
    },
    {
      "cell_type": "code",
      "source": [
        "b = np.array([ [1,3] , [4,5 ]])"
      ],
      "metadata": {
        "id": "RtibNemVAcJa"
      },
      "execution_count": 86,
      "outputs": []
    },
    {
      "cell_type": "code",
      "source": [
        "b.ndim"
      ],
      "metadata": {
        "colab": {
          "base_uri": "https://localhost:8080/"
        },
        "id": "28YH8MBhAl-Q",
        "outputId": "b0ee8712-e1fc-4dda-fe84-d8f73edf0143"
      },
      "execution_count": 87,
      "outputs": [
        {
          "output_type": "execute_result",
          "data": {
            "text/plain": [
              "2"
            ]
          },
          "metadata": {},
          "execution_count": 87
        }
      ]
    },
    {
      "cell_type": "code",
      "source": [
        "print(a)"
      ],
      "metadata": {
        "colab": {
          "base_uri": "https://localhost:8080/"
        },
        "id": "yTuEWJ6bApUt",
        "outputId": "5c861812-c96f-4141-943f-b8e7795b5e6d"
      },
      "execution_count": 88,
      "outputs": [
        {
          "output_type": "stream",
          "name": "stdout",
          "text": [
            "[[ 0  1  2  3]\n",
            " [ 4  5  6  7]\n",
            " [ 8  9 10 11]]\n"
          ]
        }
      ]
    },
    {
      "cell_type": "code",
      "source": [
        "a.shape"
      ],
      "metadata": {
        "colab": {
          "base_uri": "https://localhost:8080/"
        },
        "id": "bFjF02VmArzp",
        "outputId": "6e9b0841-7e39-4f3c-d7be-fe59cf65f98a"
      },
      "execution_count": 89,
      "outputs": [
        {
          "output_type": "execute_result",
          "data": {
            "text/plain": [
              "(3, 4)"
            ]
          },
          "metadata": {},
          "execution_count": 89
        }
      ]
    },
    {
      "cell_type": "code",
      "source": [
        "a.ndim"
      ],
      "metadata": {
        "colab": {
          "base_uri": "https://localhost:8080/"
        },
        "id": "NEHPEwH8Avhw",
        "outputId": "929c9c05-7700-404d-90bd-0d38aa070464"
      },
      "execution_count": 90,
      "outputs": [
        {
          "output_type": "execute_result",
          "data": {
            "text/plain": [
              "2"
            ]
          },
          "metadata": {},
          "execution_count": 90
        }
      ]
    },
    {
      "cell_type": "code",
      "source": [
        "b = a.T\n",
        "print(a)"
      ],
      "metadata": {
        "colab": {
          "base_uri": "https://localhost:8080/"
        },
        "id": "9OlwcN2hAwtB",
        "outputId": "870dd7ff-823d-4c4d-96ae-998eab88a716"
      },
      "execution_count": 91,
      "outputs": [
        {
          "output_type": "stream",
          "name": "stdout",
          "text": [
            "[[ 0  1  2  3]\n",
            " [ 4  5  6  7]\n",
            " [ 8  9 10 11]]\n"
          ]
        }
      ]
    },
    {
      "cell_type": "code",
      "source": [
        "print(b)"
      ],
      "metadata": {
        "colab": {
          "base_uri": "https://localhost:8080/"
        },
        "id": "2efXWugtAz39",
        "outputId": "baf18501-a8c4-42b4-b099-75a3c2d60324"
      },
      "execution_count": 92,
      "outputs": [
        {
          "output_type": "stream",
          "name": "stdout",
          "text": [
            "[[ 0  4  8]\n",
            " [ 1  5  9]\n",
            " [ 2  6 10]\n",
            " [ 3  7 11]]\n"
          ]
        }
      ]
    },
    {
      "cell_type": "code",
      "source": [
        "b.shape"
      ],
      "metadata": {
        "colab": {
          "base_uri": "https://localhost:8080/"
        },
        "id": "Cuzacd2PA1ZO",
        "outputId": "148f6205-cf59-4967-b1e1-81b40ddf446d"
      },
      "execution_count": 93,
      "outputs": [
        {
          "output_type": "execute_result",
          "data": {
            "text/plain": [
              "(4, 3)"
            ]
          },
          "metadata": {},
          "execution_count": 93
        }
      ]
    },
    {
      "cell_type": "markdown",
      "source": [],
      "metadata": {
        "id": "wAA8_0wKA7Uf"
      }
    },
    {
      "cell_type": "code",
      "source": [
        "a.shape"
      ],
      "metadata": {
        "colab": {
          "base_uri": "https://localhost:8080/"
        },
        "id": "aamktO6iA-0R",
        "outputId": "80cbc01b-607e-42ac-bb02-b58ee01849df"
      },
      "execution_count": 94,
      "outputs": [
        {
          "output_type": "execute_result",
          "data": {
            "text/plain": [
              "(3, 4)"
            ]
          },
          "metadata": {},
          "execution_count": 94
        }
      ]
    },
    {
      "cell_type": "code",
      "source": [
        "a = np.arange(1, 10 , 2)\n",
        "print(a)"
      ],
      "metadata": {
        "colab": {
          "base_uri": "https://localhost:8080/"
        },
        "id": "akAxU2NaA_5s",
        "outputId": "b85050d7-888a-4850-efb7-ef3f0ce17d1b"
      },
      "execution_count": 95,
      "outputs": [
        {
          "output_type": "stream",
          "name": "stdout",
          "text": [
            "[1 3 5 7 9]\n"
          ]
        }
      ]
    },
    {
      "cell_type": "code",
      "source": [
        "type(a)"
      ],
      "metadata": {
        "colab": {
          "base_uri": "https://localhost:8080/"
        },
        "id": "xY1keltDBHlY",
        "outputId": "5bcd63d2-2ddf-47e7-8553-ece14d8e6ccb"
      },
      "execution_count": 96,
      "outputs": [
        {
          "output_type": "execute_result",
          "data": {
            "text/plain": [
              "numpy.ndarray"
            ]
          },
          "metadata": {},
          "execution_count": 96
        }
      ]
    },
    {
      "cell_type": "code",
      "source": [
        "m1 = np.arange(1, 10).reshape(3,3)\n",
        "print(m1)"
      ],
      "metadata": {
        "colab": {
          "base_uri": "https://localhost:8080/"
        },
        "id": "R9I4r2XFBLNa",
        "outputId": "455ba1d9-81c4-42a0-c06d-35be6cb36118"
      },
      "execution_count": 97,
      "outputs": [
        {
          "output_type": "stream",
          "name": "stdout",
          "text": [
            "[[1 2 3]\n",
            " [4 5 6]\n",
            " [7 8 9]]\n"
          ]
        }
      ]
    },
    {
      "cell_type": "code",
      "source": [
        "a = np.arange(2,10)\n",
        "print(a)"
      ],
      "metadata": {
        "colab": {
          "base_uri": "https://localhost:8080/"
        },
        "id": "96-qazHBBUJE",
        "outputId": "9eb40c60-cf13-4b95-f321-19c5b87ec33f"
      },
      "execution_count": 100,
      "outputs": [
        {
          "output_type": "stream",
          "name": "stdout",
          "text": [
            "[2 3 4 5 6 7 8 9]\n"
          ]
        }
      ]
    },
    {
      "cell_type": "code",
      "source": [
        "print(a[ [3, 5, 7]] ) #multi-indexing"
      ],
      "metadata": {
        "colab": {
          "base_uri": "https://localhost:8080/"
        },
        "id": "iyCQ69YaBYvO",
        "outputId": "9c71b30e-64cd-485c-a599-232912d1137b"
      },
      "execution_count": 101,
      "outputs": [
        {
          "output_type": "stream",
          "name": "stdout",
          "text": [
            "[5 7 9]\n"
          ]
        }
      ]
    },
    {
      "cell_type": "code",
      "source": [
        "m1 = np.arange(9).reshape(3,3)\n",
        "print(m1)"
      ],
      "metadata": {
        "colab": {
          "base_uri": "https://localhost:8080/"
        },
        "id": "11tiz-6HBl6u",
        "outputId": "af8bcb61-b9cb-415f-faef-1adf76477e74"
      },
      "execution_count": 102,
      "outputs": [
        {
          "output_type": "stream",
          "name": "stdout",
          "text": [
            "[[0 1 2]\n",
            " [3 4 5]\n",
            " [6 7 8]]\n"
          ]
        }
      ]
    },
    {
      "cell_type": "code",
      "source": [
        "print(m1[ [0, 1, 2] , [0, 1, 2]  ])"
      ],
      "metadata": {
        "colab": {
          "base_uri": "https://localhost:8080/"
        },
        "id": "4r1LwX2yBt8v",
        "outputId": "595f953e-e0f0-4a56-8e0b-bef9042935b3"
      },
      "execution_count": 103,
      "outputs": [
        {
          "output_type": "stream",
          "name": "stdout",
          "text": [
            "[0 4 8]\n"
          ]
        }
      ]
    },
    {
      "cell_type": "code",
      "source": [
        "print(m1[ [0, 1, 2] , [2 , 0 , 1]  ])"
      ],
      "metadata": {
        "colab": {
          "base_uri": "https://localhost:8080/"
        },
        "id": "q_C4TDBuCZka",
        "outputId": "17c78fa6-3736-43ea-b77b-f3116fe5a1eb"
      },
      "execution_count": 104,
      "outputs": [
        {
          "output_type": "stream",
          "name": "stdout",
          "text": [
            "[2 3 7]\n"
          ]
        }
      ]
    },
    {
      "cell_type": "code",
      "source": [
        "print(m1[ [2, 1, 2] , [2 , 0 , 1]  ])"
      ],
      "metadata": {
        "colab": {
          "base_uri": "https://localhost:8080/"
        },
        "id": "ziLB3zFLCmt1",
        "outputId": "76abddbd-0ba8-4844-fa86-1c9e78ea0953"
      },
      "execution_count": 105,
      "outputs": [
        {
          "output_type": "stream",
          "name": "stdout",
          "text": [
            "[8 3 7]\n"
          ]
        }
      ]
    },
    {
      "cell_type": "code",
      "source": [
        "a = np.arange(12).reshape(3,4)\n",
        "print(a)"
      ],
      "metadata": {
        "colab": {
          "base_uri": "https://localhost:8080/"
        },
        "id": "5bbwB5TOC2R4",
        "outputId": "19e46760-11e2-4784-8bd2-ef78d51ec07a"
      },
      "execution_count": 106,
      "outputs": [
        {
          "output_type": "stream",
          "name": "stdout",
          "text": [
            "[[ 0  1  2  3]\n",
            " [ 4  5  6  7]\n",
            " [ 8  9 10 11]]\n"
          ]
        }
      ]
    },
    {
      "cell_type": "code",
      "source": [
        "#slicing"
      ],
      "metadata": {
        "id": "w3JxkzkPC7Ld"
      },
      "execution_count": 107,
      "outputs": []
    },
    {
      "cell_type": "code",
      "source": [
        "print(a[0:2])"
      ],
      "metadata": {
        "colab": {
          "base_uri": "https://localhost:8080/"
        },
        "id": "Bhy8W2SUC-EK",
        "outputId": "00034a84-7634-4405-9c08-1c7b83758d31"
      },
      "execution_count": 108,
      "outputs": [
        {
          "output_type": "stream",
          "name": "stdout",
          "text": [
            "[[0 1 2 3]\n",
            " [4 5 6 7]]\n"
          ]
        }
      ]
    },
    {
      "cell_type": "code",
      "source": [
        "print(a[: , 0:2])"
      ],
      "metadata": {
        "colab": {
          "base_uri": "https://localhost:8080/"
        },
        "id": "iB3sQ8aaDCJP",
        "outputId": "c7a51249-d60a-4e36-d507-0f3765cabaac"
      },
      "execution_count": 109,
      "outputs": [
        {
          "output_type": "stream",
          "name": "stdout",
          "text": [
            "[[0 1]\n",
            " [4 5]\n",
            " [8 9]]\n"
          ]
        }
      ]
    },
    {
      "cell_type": "code",
      "source": [
        "print(a[:, 1:3])"
      ],
      "metadata": {
        "colab": {
          "base_uri": "https://localhost:8080/"
        },
        "id": "pzWFDlpDDPsf",
        "outputId": "d3e3615b-0df0-4864-c8a5-1a6acec03263"
      },
      "execution_count": 110,
      "outputs": [
        {
          "output_type": "stream",
          "name": "stdout",
          "text": [
            "[[ 1  2]\n",
            " [ 5  6]\n",
            " [ 9 10]]\n"
          ]
        }
      ]
    },
    {
      "cell_type": "code",
      "source": [
        "print(a)"
      ],
      "metadata": {
        "colab": {
          "base_uri": "https://localhost:8080/"
        },
        "id": "sl4rg9jZDvjV",
        "outputId": "1659edbe-ce6d-4ea1-9269-0e783a574150"
      },
      "execution_count": 111,
      "outputs": [
        {
          "output_type": "stream",
          "name": "stdout",
          "text": [
            "[[ 0  1  2  3]\n",
            " [ 4  5  6  7]\n",
            " [ 8  9 10 11]]\n"
          ]
        }
      ]
    },
    {
      "cell_type": "code",
      "source": [
        "print(a[0:2 , 1:3])"
      ],
      "metadata": {
        "colab": {
          "base_uri": "https://localhost:8080/"
        },
        "id": "E0lVzCFOD1xF",
        "outputId": "e03cdb4c-af70-47d5-b3ef-5fbfd5a70427"
      },
      "execution_count": 112,
      "outputs": [
        {
          "output_type": "stream",
          "name": "stdout",
          "text": [
            "[[1 2]\n",
            " [5 6]]\n"
          ]
        }
      ]
    },
    {
      "cell_type": "code",
      "source": [
        "print(a[1:2, 0:2])"
      ],
      "metadata": {
        "colab": {
          "base_uri": "https://localhost:8080/"
        },
        "id": "83VhcakREDnv",
        "outputId": "bab6767c-e53c-4274-8caf-c5c902b7149f"
      },
      "execution_count": 113,
      "outputs": [
        {
          "output_type": "stream",
          "name": "stdout",
          "text": [
            "[[4 5]]\n"
          ]
        }
      ]
    },
    {
      "cell_type": "code",
      "source": [
        "print(a[0:2, :])"
      ],
      "metadata": {
        "colab": {
          "base_uri": "https://localhost:8080/"
        },
        "id": "T0eNnkgzEaRo",
        "outputId": "bc4d5c67-8292-46ba-e2ec-90bb640f59c3"
      },
      "execution_count": 114,
      "outputs": [
        {
          "output_type": "stream",
          "name": "stdout",
          "text": [
            "[[0 1 2 3]\n",
            " [4 5 6 7]]\n"
          ]
        }
      ]
    },
    {
      "cell_type": "code",
      "source": [
        "print(a)"
      ],
      "metadata": {
        "colab": {
          "base_uri": "https://localhost:8080/"
        },
        "id": "4vMLtIeNEf6F",
        "outputId": "d6d13e01-618f-401a-98e9-600a45f51581"
      },
      "execution_count": 115,
      "outputs": [
        {
          "output_type": "stream",
          "name": "stdout",
          "text": [
            "[[ 0  1  2  3]\n",
            " [ 4  5  6  7]\n",
            " [ 8  9 10 11]]\n"
          ]
        }
      ]
    },
    {
      "cell_type": "code",
      "source": [
        "print(a < 6)"
      ],
      "metadata": {
        "colab": {
          "base_uri": "https://localhost:8080/"
        },
        "id": "xVBbhTzdEnxS",
        "outputId": "378398ed-0b85-4c10-bb78-38f03938e1d7"
      },
      "execution_count": 116,
      "outputs": [
        {
          "output_type": "stream",
          "name": "stdout",
          "text": [
            "[[ True  True  True  True]\n",
            " [ True  True False False]\n",
            " [False False False False]]\n"
          ]
        }
      ]
    },
    {
      "cell_type": "code",
      "source": [
        "print(a[ a < 6 ]) #masking will result in 1D np array"
      ],
      "metadata": {
        "colab": {
          "base_uri": "https://localhost:8080/"
        },
        "id": "CYtcUJRSEqYo",
        "outputId": "3a2397a0-048c-4635-d951-1b77a0f0fe6e"
      },
      "execution_count": 118,
      "outputs": [
        {
          "output_type": "stream",
          "name": "stdout",
          "text": [
            "[0 1 2 3 4 5]\n"
          ]
        }
      ]
    },
    {
      "cell_type": "code",
      "source": [
        "a = np.arange(3)"
      ],
      "metadata": {
        "id": "AYWlTHNrE2D1"
      },
      "execution_count": 119,
      "outputs": []
    },
    {
      "cell_type": "code",
      "source": [
        "print(a)"
      ],
      "metadata": {
        "colab": {
          "base_uri": "https://localhost:8080/"
        },
        "id": "X58oG8siFN1c",
        "outputId": "0a35bf7f-0044-4716-9ac2-77d25c9a6c5a"
      },
      "execution_count": 120,
      "outputs": [
        {
          "output_type": "stream",
          "name": "stdout",
          "text": [
            "[0 1 2]\n"
          ]
        }
      ]
    },
    {
      "cell_type": "code",
      "source": [
        "a.sum()"
      ],
      "metadata": {
        "colab": {
          "base_uri": "https://localhost:8080/"
        },
        "id": "i3FpK_axFOUo",
        "outputId": "57f305da-21dd-4829-97a3-fa237a091fb8"
      },
      "execution_count": 121,
      "outputs": [
        {
          "output_type": "execute_result",
          "data": {
            "text/plain": [
              "3"
            ]
          },
          "metadata": {},
          "execution_count": 121
        }
      ]
    },
    {
      "cell_type": "code",
      "source": [
        "a.mean() #average"
      ],
      "metadata": {
        "colab": {
          "base_uri": "https://localhost:8080/"
        },
        "id": "3n1XVM-TFQgz",
        "outputId": "ccc0625f-045d-4ccf-e372-7fad2179a309"
      },
      "execution_count": 126,
      "outputs": [
        {
          "output_type": "execute_result",
          "data": {
            "text/plain": [
              "1.0"
            ]
          },
          "metadata": {},
          "execution_count": 126
        }
      ]
    },
    {
      "cell_type": "code",
      "source": [
        "a.min()"
      ],
      "metadata": {
        "colab": {
          "base_uri": "https://localhost:8080/"
        },
        "id": "8U3PxQdwFUUx",
        "outputId": "4df56e25-3ac5-42b4-c9b0-7690258c8fff"
      },
      "execution_count": 123,
      "outputs": [
        {
          "output_type": "execute_result",
          "data": {
            "text/plain": [
              "0"
            ]
          },
          "metadata": {},
          "execution_count": 123
        }
      ]
    },
    {
      "cell_type": "code",
      "source": [
        "a.max()"
      ],
      "metadata": {
        "colab": {
          "base_uri": "https://localhost:8080/"
        },
        "id": "imBLhLyBFX7c",
        "outputId": "ac7efad4-c831-42a5-e300-d65e8b026c8b"
      },
      "execution_count": 124,
      "outputs": [
        {
          "output_type": "execute_result",
          "data": {
            "text/plain": [
              "2"
            ]
          },
          "metadata": {},
          "execution_count": 124
        }
      ]
    },
    {
      "cell_type": "code",
      "source": [
        "a = np.arange(12).reshape(3,4)"
      ],
      "metadata": {
        "id": "jQGHOb6EFcln"
      },
      "execution_count": 127,
      "outputs": []
    },
    {
      "cell_type": "code",
      "source": [
        "print(a)"
      ],
      "metadata": {
        "colab": {
          "base_uri": "https://localhost:8080/"
        },
        "id": "rix54FlTFu1j",
        "outputId": "13ae44dc-d99e-49f7-bc49-94efe4d241e9"
      },
      "execution_count": 128,
      "outputs": [
        {
          "output_type": "stream",
          "name": "stdout",
          "text": [
            "[[ 0  1  2  3]\n",
            " [ 4  5  6  7]\n",
            " [ 8  9 10 11]]\n"
          ]
        }
      ]
    },
    {
      "cell_type": "code",
      "source": [
        "np.sum(a)"
      ],
      "metadata": {
        "colab": {
          "base_uri": "https://localhost:8080/"
        },
        "id": "AcIp4ApFFvTU",
        "outputId": "8126d4ea-be71-4c09-ccd6-bfef64e31246"
      },
      "execution_count": 129,
      "outputs": [
        {
          "output_type": "execute_result",
          "data": {
            "text/plain": [
              "66"
            ]
          },
          "metadata": {},
          "execution_count": 129
        }
      ]
    },
    {
      "cell_type": "code",
      "source": [
        "np.sum(a, axis = 1) #row=wise sum"
      ],
      "metadata": {
        "colab": {
          "base_uri": "https://localhost:8080/"
        },
        "id": "DZBYo64FF0jZ",
        "outputId": "57dc9793-b4af-49da-f3a1-32ead1f5c86f"
      },
      "execution_count": 130,
      "outputs": [
        {
          "output_type": "execute_result",
          "data": {
            "text/plain": [
              "array([ 6, 22, 38])"
            ]
          },
          "metadata": {},
          "execution_count": 130
        }
      ]
    },
    {
      "cell_type": "code",
      "source": [
        "np.sum(a, axis = 0) #col-wise sum"
      ],
      "metadata": {
        "colab": {
          "base_uri": "https://localhost:8080/"
        },
        "id": "S6__r_98GrFm",
        "outputId": "5f6c129d-6f01-406e-c86d-0e44335c7ac5"
      },
      "execution_count": 131,
      "outputs": [
        {
          "output_type": "execute_result",
          "data": {
            "text/plain": [
              "array([12, 15, 18, 21])"
            ]
          },
          "metadata": {},
          "execution_count": 131
        }
      ]
    },
    {
      "cell_type": "code",
      "source": [
        "#axis = 0--> peform this operation column-wise\n",
        "#axis = 1--> perform this operation row-wise"
      ],
      "metadata": {
        "id": "vxrOACpBGtzs"
      },
      "execution_count": 132,
      "outputs": []
    },
    {
      "cell_type": "code",
      "source": [
        "a = np.array([1, 2, 3, 4])\n",
        "b = np.array([4, 3, 2, 1])"
      ],
      "metadata": {
        "id": "WNJ1zsjHHtr-"
      },
      "execution_count": 133,
      "outputs": []
    },
    {
      "cell_type": "code",
      "source": [
        "print(a)"
      ],
      "metadata": {
        "colab": {
          "base_uri": "https://localhost:8080/"
        },
        "id": "g3FBgJ3dH4jl",
        "outputId": "fcef7bd4-b07a-4ff1-9671-3dbde7b9aaf8"
      },
      "execution_count": 134,
      "outputs": [
        {
          "output_type": "stream",
          "name": "stdout",
          "text": [
            "[1 2 3 4]\n"
          ]
        }
      ]
    },
    {
      "cell_type": "code",
      "source": [
        "print(b)"
      ],
      "metadata": {
        "colab": {
          "base_uri": "https://localhost:8080/"
        },
        "id": "O0sijpy2H5Hu",
        "outputId": "fdef61dc-d422-411a-866c-4c92bba8e58c"
      },
      "execution_count": 135,
      "outputs": [
        {
          "output_type": "stream",
          "name": "stdout",
          "text": [
            "[4 3 2 1]\n"
          ]
        }
      ]
    },
    {
      "cell_type": "code",
      "source": [
        "a < b"
      ],
      "metadata": {
        "colab": {
          "base_uri": "https://localhost:8080/"
        },
        "id": "BNhRW_MoH5ip",
        "outputId": "5bf1b53a-ff13-45e0-debe-1aa0ef09610c"
      },
      "execution_count": 137,
      "outputs": [
        {
          "output_type": "execute_result",
          "data": {
            "text/plain": [
              "array([ True,  True, False, False])"
            ]
          },
          "metadata": {},
          "execution_count": 137
        }
      ]
    },
    {
      "cell_type": "code",
      "source": [
        "np.any(a<b)"
      ],
      "metadata": {
        "colab": {
          "base_uri": "https://localhost:8080/"
        },
        "id": "iX0NYQOhIDFr",
        "outputId": "bf222c56-0115-493b-b503-a6b815b8b963"
      },
      "execution_count": 138,
      "outputs": [
        {
          "output_type": "execute_result",
          "data": {
            "text/plain": [
              "True"
            ]
          },
          "metadata": {},
          "execution_count": 138
        }
      ]
    },
    {
      "cell_type": "code",
      "source": [
        "np.all(a < b)"
      ],
      "metadata": {
        "colab": {
          "base_uri": "https://localhost:8080/"
        },
        "id": "Ir_vylBxIXTf",
        "outputId": "2feae920-679c-4f29-ecc3-8767dd62c92b"
      },
      "execution_count": 139,
      "outputs": [
        {
          "output_type": "execute_result",
          "data": {
            "text/plain": [
              "False"
            ]
          },
          "metadata": {},
          "execution_count": 139
        }
      ]
    },
    {
      "cell_type": "code",
      "source": [
        "np.all(a >= b)"
      ],
      "metadata": {
        "colab": {
          "base_uri": "https://localhost:8080/"
        },
        "id": "LgorVqvmIhc9",
        "outputId": "f70fd499-cc25-4d82-cfbd-7a026b5fa254"
      },
      "execution_count": 140,
      "outputs": [
        {
          "output_type": "execute_result",
          "data": {
            "text/plain": [
              "False"
            ]
          },
          "metadata": {},
          "execution_count": 140
        }
      ]
    },
    {
      "cell_type": "code",
      "source": [
        "a = np.array([4,5,6,7])\n",
        "b = np.array([4,3,2,1])\n",
        "np.all(a >= b)"
      ],
      "metadata": {
        "colab": {
          "base_uri": "https://localhost:8080/"
        },
        "id": "6H_HQ877Irkw",
        "outputId": "6a7f093f-e0e5-4840-fda1-301493078314"
      },
      "execution_count": 141,
      "outputs": [
        {
          "output_type": "execute_result",
          "data": {
            "text/plain": [
              "True"
            ]
          },
          "metadata": {},
          "execution_count": 141
        }
      ]
    },
    {
      "cell_type": "code",
      "source": [
        "a = np.array([-3,4,27,34,-2, 0, -45,-11,4, 0 ])"
      ],
      "metadata": {
        "id": "7gr7k7VZIxzc"
      },
      "execution_count": 142,
      "outputs": []
    },
    {
      "cell_type": "code",
      "source": [
        "print(a)"
      ],
      "metadata": {
        "colab": {
          "base_uri": "https://localhost:8080/"
        },
        "id": "5HISUBlFI2yO",
        "outputId": "b179091f-23f9-4f12-8220-76eb79fef45a"
      },
      "execution_count": 143,
      "outputs": [
        {
          "output_type": "stream",
          "name": "stdout",
          "text": [
            "[ -3   4  27  34  -2   0 -45 -11   4   0]\n"
          ]
        }
      ]
    },
    {
      "cell_type": "code",
      "source": [
        "b = np.where(a >= 0, \"Pos\" , \"Neg\")"
      ],
      "metadata": {
        "id": "X4uCYNUjI30i"
      },
      "execution_count": 144,
      "outputs": []
    },
    {
      "cell_type": "code",
      "source": [
        "print(b)"
      ],
      "metadata": {
        "colab": {
          "base_uri": "https://localhost:8080/"
        },
        "id": "XneW2IYkJPS-",
        "outputId": "e3969216-eeb8-491c-9d43-096164c8e9ca"
      },
      "execution_count": 145,
      "outputs": [
        {
          "output_type": "stream",
          "name": "stdout",
          "text": [
            "['Neg' 'Pos' 'Pos' 'Pos' 'Neg' 'Pos' 'Neg' 'Neg' 'Pos' 'Pos']\n"
          ]
        }
      ]
    },
    {
      "cell_type": "code",
      "source": [
        "#give me a np array where 1 is for pos or 0 and -1 is for neg numbers - HW"
      ],
      "metadata": {
        "id": "wm8PW3EXJQY6"
      },
      "execution_count": 146,
      "outputs": []
    },
    {
      "cell_type": "code",
      "source": [],
      "metadata": {
        "id": "vU0-yZTYJiaK"
      },
      "execution_count": null,
      "outputs": []
    }
  ]
}