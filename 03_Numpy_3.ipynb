{
  "nbformat": 4,
  "nbformat_minor": 0,
  "metadata": {
    "colab": {
      "provenance": [],
      "authorship_tag": "ABX9TyNvB7b4n7N2g9KGNcBQsVFu",
      "include_colab_link": true
    },
    "kernelspec": {
      "name": "python3",
      "display_name": "Python 3"
    },
    "language_info": {
      "name": "python"
    }
  },
  "cells": [
    {
      "cell_type": "markdown",
      "metadata": {
        "id": "view-in-github",
        "colab_type": "text"
      },
      "source": [
        "<a href=\"https://colab.research.google.com/github/adityajain2407/DAV-1-apr23/blob/main/03_Numpy_3.ipynb\" target=\"_parent\"><img src=\"https://colab.research.google.com/assets/colab-badge.svg\" alt=\"Open In Colab\"/></a>"
      ]
    },
    {
      "cell_type": "code",
      "execution_count": 1,
      "metadata": {
        "id": "fCtPSlLyB1pV"
      },
      "outputs": [],
      "source": [
        "import numpy as np"
      ]
    },
    {
      "cell_type": "code",
      "source": [
        "data = np.loadtxt(\"fit.txt\", dtype = \"str\")"
      ],
      "metadata": {
        "id": "Ha8Zbnr0Cwtx"
      },
      "execution_count": 2,
      "outputs": []
    },
    {
      "cell_type": "code",
      "source": [
        "print(data)"
      ],
      "metadata": {
        "colab": {
          "base_uri": "https://localhost:8080/"
        },
        "id": "jiTyyhhNC3o3",
        "outputId": "71dda275-a15d-4894-8201-83175b199a75"
      },
      "execution_count": 3,
      "outputs": [
        {
          "output_type": "stream",
          "name": "stdout",
          "text": [
            "[['06-10-2017' '5464' 'Neutral' '181' '5' 'Inactive']\n",
            " ['07-10-2017' '6041' 'Sad' '197' '8' 'Inactive']\n",
            " ['08-10-2017' '25' 'Sad' '0' '5' 'Inactive']\n",
            " ['09-10-2017' '5461' 'Sad' '174' '4' 'Inactive']\n",
            " ['10-10-2017' '6915' 'Neutral' '223' '5' 'Active']\n",
            " ['11-10-2017' '4545' 'Sad' '149' '6' 'Inactive']\n",
            " ['12-10-2017' '4340' 'Sad' '140' '6' 'Inactive']\n",
            " ['13-10-2017' '1230' 'Sad' '38' '7' 'Inactive']\n",
            " ['14-10-2017' '61' 'Sad' '1' '5' 'Inactive']\n",
            " ['15-10-2017' '1258' 'Sad' '40' '6' 'Inactive']\n",
            " ['16-10-2017' '3148' 'Sad' '101' '8' 'Inactive']\n",
            " ['17-10-2017' '4687' 'Sad' '152' '5' 'Inactive']\n",
            " ['18-10-2017' '4732' 'Happy' '150' '6' 'Active']\n",
            " ['19-10-2017' '3519' 'Sad' '113' '7' 'Inactive']\n",
            " ['20-10-2017' '1580' 'Sad' '49' '5' 'Inactive']\n",
            " ['21-10-2017' '2822' 'Sad' '86' '6' 'Inactive']\n",
            " ['22-10-2017' '181' 'Sad' '6' '8' 'Inactive']\n",
            " ['23-10-2017' '3158' 'Neutral' '99' '5' 'Inactive']\n",
            " ['24-10-2017' '4383' 'Neutral' '143' '4' 'Inactive']\n",
            " ['25-10-2017' '3881' 'Neutral' '125' '5' 'Inactive']\n",
            " ['26-10-2017' '4037' 'Neutral' '129' '6' 'Inactive']\n",
            " ['27-10-2017' '202' 'Neutral' '6' '8' 'Inactive']\n",
            " ['28-10-2017' '292' 'Neutral' '9' '5' 'Inactive']\n",
            " ['29-10-2017' '330' 'Happy' '10' '6' 'Inactive']\n",
            " ['30-10-2017' '2209' 'Neutral' '72' '5' 'Inactive']\n",
            " ['31-10-2017' '4550' 'Happy' '150' '8' 'Active']\n",
            " ['01-11-2017' '4435' 'Happy' '141' '5' 'Inactive']\n",
            " ['02-11-2017' '4779' 'Happy' '156' '4' 'Inactive']\n",
            " ['03-11-2017' '1831' 'Happy' '57' '5' 'Inactive']\n",
            " ['04-11-2017' '2255' 'Happy' '72' '4' 'Inactive']\n",
            " ['05-11-2017' '539' 'Happy' '17' '5' 'Active']\n",
            " ['06-11-2017' '5464' 'Happy' '181' '4' 'Inactive']\n",
            " ['07-11-2017' '6041' 'Neutral' '197' '3' 'Inactive']\n",
            " ['08-11-2017' '4068' 'Happy' '131' '2' 'Inactive']\n",
            " ['09-11-2017' '4683' 'Happy' '154' '9' 'Inactive']\n",
            " ['10-11-2017' '4033' 'Happy' '137' '5' 'Inactive']\n",
            " ['11-11-2017' '6314' 'Happy' '193' '6' 'Active']\n",
            " ['12-11-2017' '614' 'Happy' '19' '4' 'Active']\n",
            " ['13-11-2017' '3149' 'Happy' '101' '5' 'Active']\n",
            " ['14-11-2017' '4005' 'Happy' '139' '8' 'Active']\n",
            " ['15-11-2017' '4880' 'Happy' '164' '4' 'Active']\n",
            " ['16-11-2017' '4136' 'Happy' '137' '5' 'Active']\n",
            " ['17-11-2017' '705' 'Happy' '22' '6' 'Active']\n",
            " ['18-11-2017' '570' 'Neutral' '17' '5' 'Active']\n",
            " ['19-11-2017' '269' 'Happy' '9' '6' 'Active']\n",
            " ['20-11-2017' '4275' 'Happy' '145' '5' 'Inactive']\n",
            " ['21-11-2017' '5999' 'Happy' '192' '6' 'Inactive']\n",
            " ['22-11-2017' '4421' 'Happy' '146' '5' 'Inactive']\n",
            " ['23-11-2017' '6930' 'Happy' '234' '6' 'Inactive']\n",
            " ['24-11-2017' '5195' 'Happy' '167' '5' 'Inactive']\n",
            " ['25-11-2017' '546' 'Happy' '16' '6' 'Inactive']\n",
            " ['26-11-2017' '493' 'Happy' '17' '7' 'Active']\n",
            " ['27-11-2017' '995' 'Happy' '32' '6' 'Active']\n",
            " ['28-11-2017' '1163' 'Neutral' '35' '7' 'Active']\n",
            " ['29-11-2017' '6676' 'Sad' '220' '6' 'Active']\n",
            " ['30-11-2017' '3608' 'Happy' '116' '5' 'Active']\n",
            " ['01-12-2017' '774' 'Happy' '23' '6' 'Active']\n",
            " ['02-12-2017' '1421' 'Happy' '44' '7' 'Active']\n",
            " ['03-12-2017' '4064' 'Happy' '131' '8' 'Active']\n",
            " ['04-12-2017' '2725' 'Happy' '86' '8' 'Active']\n",
            " ['05-12-2017' '5934' 'Happy' '194' '7' 'Active']\n",
            " ['06-12-2017' '1867' 'Happy' '60' '8' 'Active']\n",
            " ['07-12-2017' '3721' 'Sad' '121' '5' 'Active']\n",
            " ['08-12-2017' '2374' 'Neutral' '76' '4' 'Inactive']\n",
            " ['09-12-2017' '2909' 'Neutral' '93' '3' 'Active']\n",
            " ['10-12-2017' '1648' 'Sad' '53' '3' 'Active']\n",
            " ['11-12-2017' '799' 'Sad' '25' '4' 'Inactive']\n",
            " ['12-12-2017' '7102' 'Neutral' '227' '5' 'Active']\n",
            " ['13-12-2017' '3941' 'Neutral' '125' '5' 'Active']\n",
            " ['14-12-2017' '7422' 'Happy' '243' '5' 'Active']\n",
            " ['15-12-2017' '437' 'Neutral' '14' '3' 'Active']\n",
            " ['16-12-2017' '1231' 'Neutral' '39' '4' 'Active']\n",
            " ['17-12-2017' '1696' 'Sad' '55' '4' 'Inactive']\n",
            " ['18-12-2017' '4921' 'Neutral' '158' '5' 'Active']\n",
            " ['19-12-2017' '221' 'Sad' '7' '5' 'Active']\n",
            " ['20-12-2017' '6500' 'Neutral' '213' '5' 'Active']\n",
            " ['21-12-2017' '3575' 'Neutral' '116' '5' 'Active']\n",
            " ['22-12-2017' '4061' 'Sad' '129' '5' 'Inactive']\n",
            " ['23-12-2017' '651' 'Sad' '21' '5' 'Inactive']\n",
            " ['24-12-2017' '753' 'Sad' '28' '4' 'Inactive']\n",
            " ['25-12-2017' '518' 'Sad' '16' '3' 'Inactive']\n",
            " ['26-12-2017' '5537' 'Happy' '180' '4' 'Active']\n",
            " ['27-12-2017' '4108' 'Neutral' '138' '5' 'Active']\n",
            " ['28-12-2017' '5376' 'Happy' '176' '5' 'Active']\n",
            " ['29-12-2017' '3066' 'Neutral' '99' '4' 'Active']\n",
            " ['30-12-2017' '177' 'Sad' '5' '5' 'Inactive']\n",
            " ['31-12-2017' '36' 'Sad' '1' '3' 'Inactive']\n",
            " ['01-01-2018' '299' 'Sad' '10' '3' 'Inactive']\n",
            " ['02-01-2018' '1447' 'Neutral' '47' '3' 'Inactive']\n",
            " ['03-01-2018' '2599' 'Neutral' '84' '2' 'Inactive']\n",
            " ['04-01-2018' '702' 'Sad' '23' '3' 'Inactive']\n",
            " ['05-01-2018' '133' 'Sad' '4' '2' 'Inactive']\n",
            " ['06-01-2018' '153' 'Happy' '0' '8' 'Inactive']\n",
            " ['07-01-2018' '500' 'Neutral' '0' '5' 'Active']\n",
            " ['08-01-2018' '2127' 'Neutral' '0' '5' 'Inactive']\n",
            " ['09-01-2018' '2203' 'Happy' '0' '5' 'Active']]\n"
          ]
        }
      ]
    },
    {
      "cell_type": "code",
      "source": [
        "data.shape"
      ],
      "metadata": {
        "colab": {
          "base_uri": "https://localhost:8080/"
        },
        "id": "UnHPyevKC43F",
        "outputId": "74ead3a4-3011-4259-d3d7-94a77819190c"
      },
      "execution_count": 4,
      "outputs": [
        {
          "output_type": "execute_result",
          "data": {
            "text/plain": [
              "(96, 6)"
            ]
          },
          "metadata": {},
          "execution_count": 4
        }
      ]
    },
    {
      "cell_type": "code",
      "source": [
        "data_t = data.T"
      ],
      "metadata": {
        "id": "knVYeqpIC6kO"
      },
      "execution_count": 5,
      "outputs": []
    },
    {
      "cell_type": "code",
      "source": [
        "data_t"
      ],
      "metadata": {
        "colab": {
          "base_uri": "https://localhost:8080/"
        },
        "id": "fu50rhsqDA30",
        "outputId": "61f0f534-0e2b-4dc7-b8d6-d8ec812d1f38"
      },
      "execution_count": 6,
      "outputs": [
        {
          "output_type": "execute_result",
          "data": {
            "text/plain": [
              "array([['06-10-2017', '07-10-2017', '08-10-2017', '09-10-2017',\n",
              "        '10-10-2017', '11-10-2017', '12-10-2017', '13-10-2017',\n",
              "        '14-10-2017', '15-10-2017', '16-10-2017', '17-10-2017',\n",
              "        '18-10-2017', '19-10-2017', '20-10-2017', '21-10-2017',\n",
              "        '22-10-2017', '23-10-2017', '24-10-2017', '25-10-2017',\n",
              "        '26-10-2017', '27-10-2017', '28-10-2017', '29-10-2017',\n",
              "        '30-10-2017', '31-10-2017', '01-11-2017', '02-11-2017',\n",
              "        '03-11-2017', '04-11-2017', '05-11-2017', '06-11-2017',\n",
              "        '07-11-2017', '08-11-2017', '09-11-2017', '10-11-2017',\n",
              "        '11-11-2017', '12-11-2017', '13-11-2017', '14-11-2017',\n",
              "        '15-11-2017', '16-11-2017', '17-11-2017', '18-11-2017',\n",
              "        '19-11-2017', '20-11-2017', '21-11-2017', '22-11-2017',\n",
              "        '23-11-2017', '24-11-2017', '25-11-2017', '26-11-2017',\n",
              "        '27-11-2017', '28-11-2017', '29-11-2017', '30-11-2017',\n",
              "        '01-12-2017', '02-12-2017', '03-12-2017', '04-12-2017',\n",
              "        '05-12-2017', '06-12-2017', '07-12-2017', '08-12-2017',\n",
              "        '09-12-2017', '10-12-2017', '11-12-2017', '12-12-2017',\n",
              "        '13-12-2017', '14-12-2017', '15-12-2017', '16-12-2017',\n",
              "        '17-12-2017', '18-12-2017', '19-12-2017', '20-12-2017',\n",
              "        '21-12-2017', '22-12-2017', '23-12-2017', '24-12-2017',\n",
              "        '25-12-2017', '26-12-2017', '27-12-2017', '28-12-2017',\n",
              "        '29-12-2017', '30-12-2017', '31-12-2017', '01-01-2018',\n",
              "        '02-01-2018', '03-01-2018', '04-01-2018', '05-01-2018',\n",
              "        '06-01-2018', '07-01-2018', '08-01-2018', '09-01-2018'],\n",
              "       ['5464', '6041', '25', '5461', '6915', '4545', '4340', '1230',\n",
              "        '61', '1258', '3148', '4687', '4732', '3519', '1580', '2822',\n",
              "        '181', '3158', '4383', '3881', '4037', '202', '292', '330',\n",
              "        '2209', '4550', '4435', '4779', '1831', '2255', '539', '5464',\n",
              "        '6041', '4068', '4683', '4033', '6314', '614', '3149', '4005',\n",
              "        '4880', '4136', '705', '570', '269', '4275', '5999', '4421',\n",
              "        '6930', '5195', '546', '493', '995', '1163', '6676', '3608',\n",
              "        '774', '1421', '4064', '2725', '5934', '1867', '3721', '2374',\n",
              "        '2909', '1648', '799', '7102', '3941', '7422', '437', '1231',\n",
              "        '1696', '4921', '221', '6500', '3575', '4061', '651', '753',\n",
              "        '518', '5537', '4108', '5376', '3066', '177', '36', '299',\n",
              "        '1447', '2599', '702', '133', '153', '500', '2127', '2203'],\n",
              "       ['Neutral', 'Sad', 'Sad', 'Sad', 'Neutral', 'Sad', 'Sad', 'Sad',\n",
              "        'Sad', 'Sad', 'Sad', 'Sad', 'Happy', 'Sad', 'Sad', 'Sad', 'Sad',\n",
              "        'Neutral', 'Neutral', 'Neutral', 'Neutral', 'Neutral', 'Neutral',\n",
              "        'Happy', 'Neutral', 'Happy', 'Happy', 'Happy', 'Happy', 'Happy',\n",
              "        'Happy', 'Happy', 'Neutral', 'Happy', 'Happy', 'Happy', 'Happy',\n",
              "        'Happy', 'Happy', 'Happy', 'Happy', 'Happy', 'Happy', 'Neutral',\n",
              "        'Happy', 'Happy', 'Happy', 'Happy', 'Happy', 'Happy', 'Happy',\n",
              "        'Happy', 'Happy', 'Neutral', 'Sad', 'Happy', 'Happy', 'Happy',\n",
              "        'Happy', 'Happy', 'Happy', 'Happy', 'Sad', 'Neutral', 'Neutral',\n",
              "        'Sad', 'Sad', 'Neutral', 'Neutral', 'Happy', 'Neutral',\n",
              "        'Neutral', 'Sad', 'Neutral', 'Sad', 'Neutral', 'Neutral', 'Sad',\n",
              "        'Sad', 'Sad', 'Sad', 'Happy', 'Neutral', 'Happy', 'Neutral',\n",
              "        'Sad', 'Sad', 'Sad', 'Neutral', 'Neutral', 'Sad', 'Sad', 'Happy',\n",
              "        'Neutral', 'Neutral', 'Happy'],\n",
              "       ['181', '197', '0', '174', '223', '149', '140', '38', '1', '40',\n",
              "        '101', '152', '150', '113', '49', '86', '6', '99', '143', '125',\n",
              "        '129', '6', '9', '10', '72', '150', '141', '156', '57', '72',\n",
              "        '17', '181', '197', '131', '154', '137', '193', '19', '101',\n",
              "        '139', '164', '137', '22', '17', '9', '145', '192', '146', '234',\n",
              "        '167', '16', '17', '32', '35', '220', '116', '23', '44', '131',\n",
              "        '86', '194', '60', '121', '76', '93', '53', '25', '227', '125',\n",
              "        '243', '14', '39', '55', '158', '7', '213', '116', '129', '21',\n",
              "        '28', '16', '180', '138', '176', '99', '5', '1', '10', '47',\n",
              "        '84', '23', '4', '0', '0', '0', '0'],\n",
              "       ['5', '8', '5', '4', '5', '6', '6', '7', '5', '6', '8', '5', '6',\n",
              "        '7', '5', '6', '8', '5', '4', '5', '6', '8', '5', '6', '5', '8',\n",
              "        '5', '4', '5', '4', '5', '4', '3', '2', '9', '5', '6', '4', '5',\n",
              "        '8', '4', '5', '6', '5', '6', '5', '6', '5', '6', '5', '6', '7',\n",
              "        '6', '7', '6', '5', '6', '7', '8', '8', '7', '8', '5', '4', '3',\n",
              "        '3', '4', '5', '5', '5', '3', '4', '4', '5', '5', '5', '5', '5',\n",
              "        '5', '4', '3', '4', '5', '5', '4', '5', '3', '3', '3', '2', '3',\n",
              "        '2', '8', '5', '5', '5'],\n",
              "       ['Inactive', 'Inactive', 'Inactive', 'Inactive', 'Active',\n",
              "        'Inactive', 'Inactive', 'Inactive', 'Inactive', 'Inactive',\n",
              "        'Inactive', 'Inactive', 'Active', 'Inactive', 'Inactive',\n",
              "        'Inactive', 'Inactive', 'Inactive', 'Inactive', 'Inactive',\n",
              "        'Inactive', 'Inactive', 'Inactive', 'Inactive', 'Inactive',\n",
              "        'Active', 'Inactive', 'Inactive', 'Inactive', 'Inactive',\n",
              "        'Active', 'Inactive', 'Inactive', 'Inactive', 'Inactive',\n",
              "        'Inactive', 'Active', 'Active', 'Active', 'Active', 'Active',\n",
              "        'Active', 'Active', 'Active', 'Active', 'Inactive', 'Inactive',\n",
              "        'Inactive', 'Inactive', 'Inactive', 'Inactive', 'Active',\n",
              "        'Active', 'Active', 'Active', 'Active', 'Active', 'Active',\n",
              "        'Active', 'Active', 'Active', 'Active', 'Active', 'Inactive',\n",
              "        'Active', 'Active', 'Inactive', 'Active', 'Active', 'Active',\n",
              "        'Active', 'Active', 'Inactive', 'Active', 'Active', 'Active',\n",
              "        'Active', 'Inactive', 'Inactive', 'Inactive', 'Inactive',\n",
              "        'Active', 'Active', 'Active', 'Active', 'Inactive', 'Inactive',\n",
              "        'Inactive', 'Inactive', 'Inactive', 'Inactive', 'Inactive',\n",
              "        'Inactive', 'Active', 'Inactive', 'Active']], dtype='<U10')"
            ]
          },
          "metadata": {},
          "execution_count": 6
        }
      ]
    },
    {
      "cell_type": "code",
      "source": [
        "step_count = data_t[1]"
      ],
      "metadata": {
        "id": "F7XYbInRDCW2"
      },
      "execution_count": 7,
      "outputs": []
    },
    {
      "cell_type": "code",
      "source": [
        "print(step_count)"
      ],
      "metadata": {
        "colab": {
          "base_uri": "https://localhost:8080/"
        },
        "id": "6bkh-siqDKBF",
        "outputId": "4374c026-d49f-4276-d1bb-c34ae240e10e"
      },
      "execution_count": 8,
      "outputs": [
        {
          "output_type": "stream",
          "name": "stdout",
          "text": [
            "['5464' '6041' '25' '5461' '6915' '4545' '4340' '1230' '61' '1258' '3148'\n",
            " '4687' '4732' '3519' '1580' '2822' '181' '3158' '4383' '3881' '4037'\n",
            " '202' '292' '330' '2209' '4550' '4435' '4779' '1831' '2255' '539' '5464'\n",
            " '6041' '4068' '4683' '4033' '6314' '614' '3149' '4005' '4880' '4136'\n",
            " '705' '570' '269' '4275' '5999' '4421' '6930' '5195' '546' '493' '995'\n",
            " '1163' '6676' '3608' '774' '1421' '4064' '2725' '5934' '1867' '3721'\n",
            " '2374' '2909' '1648' '799' '7102' '3941' '7422' '437' '1231' '1696'\n",
            " '4921' '221' '6500' '3575' '4061' '651' '753' '518' '5537' '4108' '5376'\n",
            " '3066' '177' '36' '299' '1447' '2599' '702' '133' '153' '500' '2127'\n",
            " '2203']\n"
          ]
        }
      ]
    },
    {
      "cell_type": "code",
      "source": [
        "step_count = np.array(step_count, dtype = 'int')"
      ],
      "metadata": {
        "id": "JGZRCu-EDLuz"
      },
      "execution_count": 9,
      "outputs": []
    },
    {
      "cell_type": "code",
      "source": [
        "print(step_count)"
      ],
      "metadata": {
        "colab": {
          "base_uri": "https://localhost:8080/"
        },
        "id": "PUCXMz-FDNjr",
        "outputId": "aec31445-e2d0-4340-abb2-df4f56890469"
      },
      "execution_count": 10,
      "outputs": [
        {
          "output_type": "stream",
          "name": "stdout",
          "text": [
            "[5464 6041   25 5461 6915 4545 4340 1230   61 1258 3148 4687 4732 3519\n",
            " 1580 2822  181 3158 4383 3881 4037  202  292  330 2209 4550 4435 4779\n",
            " 1831 2255  539 5464 6041 4068 4683 4033 6314  614 3149 4005 4880 4136\n",
            "  705  570  269 4275 5999 4421 6930 5195  546  493  995 1163 6676 3608\n",
            "  774 1421 4064 2725 5934 1867 3721 2374 2909 1648  799 7102 3941 7422\n",
            "  437 1231 1696 4921  221 6500 3575 4061  651  753  518 5537 4108 5376\n",
            " 3066  177   36  299 1447 2599  702  133  153  500 2127 2203]\n"
          ]
        }
      ]
    },
    {
      "cell_type": "code",
      "source": [
        "#On which date, you have got the maximum step_count"
      ],
      "metadata": {
        "id": "6dSVr3qfDPrT"
      },
      "execution_count": 11,
      "outputs": []
    },
    {
      "cell_type": "code",
      "source": [
        "i = step_count.argmax()"
      ],
      "metadata": {
        "id": "qf0o8tYXDigP"
      },
      "execution_count": 12,
      "outputs": []
    },
    {
      "cell_type": "code",
      "source": [
        "print(i)"
      ],
      "metadata": {
        "colab": {
          "base_uri": "https://localhost:8080/"
        },
        "id": "1mtvZKprDz7V",
        "outputId": "779c3bd5-e7c3-483a-d15d-c832e56f7bd0"
      },
      "execution_count": 13,
      "outputs": [
        {
          "output_type": "stream",
          "name": "stdout",
          "text": [
            "69\n"
          ]
        }
      ]
    },
    {
      "cell_type": "code",
      "source": [
        "step_count[i]"
      ],
      "metadata": {
        "colab": {
          "base_uri": "https://localhost:8080/"
        },
        "id": "GT04asmYD2Ud",
        "outputId": "c4a15a79-8364-4558-ec7e-cb625a33d1c0"
      },
      "execution_count": 14,
      "outputs": [
        {
          "output_type": "execute_result",
          "data": {
            "text/plain": [
              "7422"
            ]
          },
          "metadata": {},
          "execution_count": 14
        }
      ]
    },
    {
      "cell_type": "code",
      "source": [
        "date = data_t[0]"
      ],
      "metadata": {
        "id": "GV1BJN7ZD8Xq"
      },
      "execution_count": 15,
      "outputs": []
    },
    {
      "cell_type": "code",
      "source": [
        "date[i]"
      ],
      "metadata": {
        "colab": {
          "base_uri": "https://localhost:8080/",
          "height": 35
        },
        "id": "hfDYiU7cEHzF",
        "outputId": "92bb95f6-4c0a-4b95-a905-468b9062ecbc"
      },
      "execution_count": 16,
      "outputs": [
        {
          "output_type": "execute_result",
          "data": {
            "text/plain": [
              "'14-12-2017'"
            ],
            "application/vnd.google.colaboratory.intrinsic+json": {
              "type": "string"
            }
          },
          "metadata": {},
          "execution_count": 16
        }
      ]
    },
    {
      "cell_type": "code",
      "source": [
        "#give me the calories burnt where stepcount is maximum"
      ],
      "metadata": {
        "id": "2ckL76WzEJM1"
      },
      "execution_count": 17,
      "outputs": []
    },
    {
      "cell_type": "code",
      "source": [
        "calories = data_t[3]\n",
        "print(calories)"
      ],
      "metadata": {
        "colab": {
          "base_uri": "https://localhost:8080/"
        },
        "id": "b2KhzGH9ERsp",
        "outputId": "63b15f31-3dc9-4056-868d-4ecfe0e8f46c"
      },
      "execution_count": 18,
      "outputs": [
        {
          "output_type": "stream",
          "name": "stdout",
          "text": [
            "['181' '197' '0' '174' '223' '149' '140' '38' '1' '40' '101' '152' '150'\n",
            " '113' '49' '86' '6' '99' '143' '125' '129' '6' '9' '10' '72' '150' '141'\n",
            " '156' '57' '72' '17' '181' '197' '131' '154' '137' '193' '19' '101' '139'\n",
            " '164' '137' '22' '17' '9' '145' '192' '146' '234' '167' '16' '17' '32'\n",
            " '35' '220' '116' '23' '44' '131' '86' '194' '60' '121' '76' '93' '53'\n",
            " '25' '227' '125' '243' '14' '39' '55' '158' '7' '213' '116' '129' '21'\n",
            " '28' '16' '180' '138' '176' '99' '5' '1' '10' '47' '84' '23' '4' '0' '0'\n",
            " '0' '0']\n"
          ]
        }
      ]
    },
    {
      "cell_type": "code",
      "source": [
        "calories_burnt = calories[step_count.argmax()]\n",
        "print(calories_burnt)"
      ],
      "metadata": {
        "colab": {
          "base_uri": "https://localhost:8080/"
        },
        "id": "HidDyf9UEctc",
        "outputId": "271004e3-506c-4da8-a58b-eab5887542e4"
      },
      "execution_count": 19,
      "outputs": [
        {
          "output_type": "stream",
          "name": "stdout",
          "text": [
            "243\n"
          ]
        }
      ]
    },
    {
      "cell_type": "code",
      "source": [
        "step_count.argmin()"
      ],
      "metadata": {
        "colab": {
          "base_uri": "https://localhost:8080/"
        },
        "id": "rtXTNK51EkmV",
        "outputId": "de2d9410-2361-4f56-aa7b-3d90abe6ec37"
      },
      "execution_count": 20,
      "outputs": [
        {
          "output_type": "execute_result",
          "data": {
            "text/plain": [
              "2"
            ]
          },
          "metadata": {},
          "execution_count": 20
        }
      ]
    },
    {
      "cell_type": "code",
      "source": [
        "a = np.array([4, 7, 0, 3, 8, 2, 5, 1, 6, 9])\n",
        "a"
      ],
      "metadata": {
        "colab": {
          "base_uri": "https://localhost:8080/"
        },
        "id": "rVjMRHExEsfv",
        "outputId": "a7c7de70-94b3-4f0e-b1fd-500721bd0626"
      },
      "execution_count": 21,
      "outputs": [
        {
          "output_type": "execute_result",
          "data": {
            "text/plain": [
              "array([4, 7, 0, 3, 8, 2, 5, 1, 6, 9])"
            ]
          },
          "metadata": {},
          "execution_count": 21
        }
      ]
    },
    {
      "cell_type": "code",
      "source": [
        "b = np.sort(a)\n",
        "print(a)"
      ],
      "metadata": {
        "colab": {
          "base_uri": "https://localhost:8080/"
        },
        "id": "7Ci4j8U2E2JX",
        "outputId": "c58d430e-38bf-4d9e-f4f2-9e89eb023020"
      },
      "execution_count": 22,
      "outputs": [
        {
          "output_type": "stream",
          "name": "stdout",
          "text": [
            "[4 7 0 3 8 2 5 1 6 9]\n"
          ]
        }
      ]
    },
    {
      "cell_type": "code",
      "source": [
        "print(b)"
      ],
      "metadata": {
        "colab": {
          "base_uri": "https://localhost:8080/"
        },
        "id": "Ad40gaptE_Xh",
        "outputId": "1840eea6-6de1-4726-9fb3-8e9ece548633"
      },
      "execution_count": 23,
      "outputs": [
        {
          "output_type": "stream",
          "name": "stdout",
          "text": [
            "[0 1 2 3 4 5 6 7 8 9]\n"
          ]
        }
      ]
    },
    {
      "cell_type": "code",
      "source": [
        "#HW --> how to sort in desc order"
      ],
      "metadata": {
        "id": "VlW0-HuoFAOg"
      },
      "execution_count": 24,
      "outputs": []
    },
    {
      "cell_type": "code",
      "source": [
        "a.sort() #sorting is performed inplace\n",
        "print(a)"
      ],
      "metadata": {
        "colab": {
          "base_uri": "https://localhost:8080/"
        },
        "id": "B14oWanTFEA_",
        "outputId": "e25da98c-658b-4094-d661-4b878d1f6f5d"
      },
      "execution_count": 25,
      "outputs": [
        {
          "output_type": "stream",
          "name": "stdout",
          "text": [
            "[0 1 2 3 4 5 6 7 8 9]\n"
          ]
        }
      ]
    },
    {
      "cell_type": "code",
      "source": [
        "a = np.array([4,6,2,9,5])"
      ],
      "metadata": {
        "id": "RuhoNv5FFPrV"
      },
      "execution_count": 26,
      "outputs": []
    },
    {
      "cell_type": "code",
      "source": [
        "a.argsort()"
      ],
      "metadata": {
        "colab": {
          "base_uri": "https://localhost:8080/"
        },
        "id": "dtrzPiahFkB4",
        "outputId": "0f255e35-ca2e-467e-8b2e-bfc00403a05a"
      },
      "execution_count": 27,
      "outputs": [
        {
          "output_type": "execute_result",
          "data": {
            "text/plain": [
              "array([2, 0, 4, 1, 3])"
            ]
          },
          "metadata": {},
          "execution_count": 27
        }
      ]
    },
    {
      "cell_type": "code",
      "source": [
        "a = np.array([4,6,10,2,3])\n",
        "a.argsort()"
      ],
      "metadata": {
        "colab": {
          "base_uri": "https://localhost:8080/"
        },
        "id": "20_--0DsFlZH",
        "outputId": "7cbb5950-eb49-4055-89c2-5ba5bfd23057"
      },
      "execution_count": 28,
      "outputs": [
        {
          "output_type": "execute_result",
          "data": {
            "text/plain": [
              "array([3, 4, 0, 1, 2])"
            ]
          },
          "metadata": {},
          "execution_count": 28
        }
      ]
    },
    {
      "cell_type": "code",
      "source": [
        "b= np.array([[5,8,2,7],[9,5,0,0],[2,6,20,30],[7,2,8,1]])\n",
        "b"
      ],
      "metadata": {
        "colab": {
          "base_uri": "https://localhost:8080/"
        },
        "id": "if1WsTUKGTim",
        "outputId": "b7ca233d-03a3-4e08-c11d-00c6864d217b"
      },
      "execution_count": 29,
      "outputs": [
        {
          "output_type": "execute_result",
          "data": {
            "text/plain": [
              "array([[ 5,  8,  2,  7],\n",
              "       [ 9,  5,  0,  0],\n",
              "       [ 2,  6, 20, 30],\n",
              "       [ 7,  2,  8,  1]])"
            ]
          },
          "metadata": {},
          "execution_count": 29
        }
      ]
    },
    {
      "cell_type": "code",
      "source": [
        "np.argmin(b, axis = 0)"
      ],
      "metadata": {
        "colab": {
          "base_uri": "https://localhost:8080/"
        },
        "id": "gqtDb4N_GbMU",
        "outputId": "5df2fdf8-e354-4485-ed1b-d7dbf61a9f5b"
      },
      "execution_count": 30,
      "outputs": [
        {
          "output_type": "execute_result",
          "data": {
            "text/plain": [
              "array([2, 3, 1, 1])"
            ]
          },
          "metadata": {},
          "execution_count": 30
        }
      ]
    },
    {
      "cell_type": "code",
      "source": [
        "np.argmin(b, axis = 1) #rowwise"
      ],
      "metadata": {
        "colab": {
          "base_uri": "https://localhost:8080/"
        },
        "id": "kYKvAFaYGnYO",
        "outputId": "151802eb-5492-4472-d605-0c7d797c119d"
      },
      "execution_count": 31,
      "outputs": [
        {
          "output_type": "execute_result",
          "data": {
            "text/plain": [
              "array([2, 2, 0, 3])"
            ]
          },
          "metadata": {},
          "execution_count": 31
        }
      ]
    },
    {
      "cell_type": "code",
      "source": [
        "a, b, c = (1,4,3)"
      ],
      "metadata": {
        "id": "IMTJqezUHGln"
      },
      "execution_count": 32,
      "outputs": []
    },
    {
      "cell_type": "code",
      "source": [
        "print(a)"
      ],
      "metadata": {
        "colab": {
          "base_uri": "https://localhost:8080/"
        },
        "id": "GtTLJewkHUBj",
        "outputId": "25b87eb5-d1e7-4412-b491-bfd738973db6"
      },
      "execution_count": 33,
      "outputs": [
        {
          "output_type": "stream",
          "name": "stdout",
          "text": [
            "1\n"
          ]
        }
      ]
    },
    {
      "cell_type": "code",
      "source": [
        "a, b, c = [3, 5, 6]"
      ],
      "metadata": {
        "id": "DcYjEhZJHU0y"
      },
      "execution_count": 34,
      "outputs": []
    },
    {
      "cell_type": "code",
      "source": [
        "print(a)"
      ],
      "metadata": {
        "colab": {
          "base_uri": "https://localhost:8080/"
        },
        "id": "O-oMKEkTHaAC",
        "outputId": "8841f770-c5d8-480c-85e0-24fb6728c4e3"
      },
      "execution_count": 35,
      "outputs": [
        {
          "output_type": "stream",
          "name": "stdout",
          "text": [
            "3\n"
          ]
        }
      ]
    },
    {
      "cell_type": "code",
      "source": [
        "#smarter way\n",
        "date, step_count, mood, calories_burned, hours_of_sleep, activity_status = data.T"
      ],
      "metadata": {
        "id": "TGWyVKvvHafY"
      },
      "execution_count": 36,
      "outputs": []
    },
    {
      "cell_type": "code",
      "source": [
        "print(date)"
      ],
      "metadata": {
        "colab": {
          "base_uri": "https://localhost:8080/"
        },
        "id": "jheLVidxHndw",
        "outputId": "2c357e33-8eff-4e21-a4d9-6a733e95fe6e"
      },
      "execution_count": 37,
      "outputs": [
        {
          "output_type": "stream",
          "name": "stdout",
          "text": [
            "['06-10-2017' '07-10-2017' '08-10-2017' '09-10-2017' '10-10-2017'\n",
            " '11-10-2017' '12-10-2017' '13-10-2017' '14-10-2017' '15-10-2017'\n",
            " '16-10-2017' '17-10-2017' '18-10-2017' '19-10-2017' '20-10-2017'\n",
            " '21-10-2017' '22-10-2017' '23-10-2017' '24-10-2017' '25-10-2017'\n",
            " '26-10-2017' '27-10-2017' '28-10-2017' '29-10-2017' '30-10-2017'\n",
            " '31-10-2017' '01-11-2017' '02-11-2017' '03-11-2017' '04-11-2017'\n",
            " '05-11-2017' '06-11-2017' '07-11-2017' '08-11-2017' '09-11-2017'\n",
            " '10-11-2017' '11-11-2017' '12-11-2017' '13-11-2017' '14-11-2017'\n",
            " '15-11-2017' '16-11-2017' '17-11-2017' '18-11-2017' '19-11-2017'\n",
            " '20-11-2017' '21-11-2017' '22-11-2017' '23-11-2017' '24-11-2017'\n",
            " '25-11-2017' '26-11-2017' '27-11-2017' '28-11-2017' '29-11-2017'\n",
            " '30-11-2017' '01-12-2017' '02-12-2017' '03-12-2017' '04-12-2017'\n",
            " '05-12-2017' '06-12-2017' '07-12-2017' '08-12-2017' '09-12-2017'\n",
            " '10-12-2017' '11-12-2017' '12-12-2017' '13-12-2017' '14-12-2017'\n",
            " '15-12-2017' '16-12-2017' '17-12-2017' '18-12-2017' '19-12-2017'\n",
            " '20-12-2017' '21-12-2017' '22-12-2017' '23-12-2017' '24-12-2017'\n",
            " '25-12-2017' '26-12-2017' '27-12-2017' '28-12-2017' '29-12-2017'\n",
            " '30-12-2017' '31-12-2017' '01-01-2018' '02-01-2018' '03-01-2018'\n",
            " '04-01-2018' '05-01-2018' '06-01-2018' '07-01-2018' '08-01-2018'\n",
            " '09-01-2018']\n"
          ]
        }
      ]
    },
    {
      "cell_type": "code",
      "source": [
        "print(step_count)"
      ],
      "metadata": {
        "colab": {
          "base_uri": "https://localhost:8080/"
        },
        "id": "Vb5StPXnHogQ",
        "outputId": "866566d0-975b-4b38-9886-8d11ecf15d82"
      },
      "execution_count": 38,
      "outputs": [
        {
          "output_type": "stream",
          "name": "stdout",
          "text": [
            "['5464' '6041' '25' '5461' '6915' '4545' '4340' '1230' '61' '1258' '3148'\n",
            " '4687' '4732' '3519' '1580' '2822' '181' '3158' '4383' '3881' '4037'\n",
            " '202' '292' '330' '2209' '4550' '4435' '4779' '1831' '2255' '539' '5464'\n",
            " '6041' '4068' '4683' '4033' '6314' '614' '3149' '4005' '4880' '4136'\n",
            " '705' '570' '269' '4275' '5999' '4421' '6930' '5195' '546' '493' '995'\n",
            " '1163' '6676' '3608' '774' '1421' '4064' '2725' '5934' '1867' '3721'\n",
            " '2374' '2909' '1648' '799' '7102' '3941' '7422' '437' '1231' '1696'\n",
            " '4921' '221' '6500' '3575' '4061' '651' '753' '518' '5537' '4108' '5376'\n",
            " '3066' '177' '36' '299' '1447' '2599' '702' '133' '153' '500' '2127'\n",
            " '2203']\n"
          ]
        }
      ]
    },
    {
      "cell_type": "code",
      "source": [
        "#concepts"
      ],
      "metadata": {
        "id": "O0ShgDsgHqn3"
      },
      "execution_count": 39,
      "outputs": []
    },
    {
      "cell_type": "code",
      "source": [
        "a = np.arange(1, 13).reshape(3,4)"
      ],
      "metadata": {
        "id": "NYUn9uIGH-Ac"
      },
      "execution_count": 53,
      "outputs": []
    },
    {
      "cell_type": "code",
      "source": [
        "print(a)"
      ],
      "metadata": {
        "colab": {
          "base_uri": "https://localhost:8080/"
        },
        "id": "qDez7bo6IHcG",
        "outputId": "3bd7ed94-5eea-4805-f90c-a88a07378568"
      },
      "execution_count": 54,
      "outputs": [
        {
          "output_type": "stream",
          "name": "stdout",
          "text": [
            "[[ 1  2  3  4]\n",
            " [ 5  6  7  8]\n",
            " [ 9 10 11 12]]\n"
          ]
        }
      ]
    },
    {
      "cell_type": "code",
      "source": [
        "a.shape"
      ],
      "metadata": {
        "colab": {
          "base_uri": "https://localhost:8080/"
        },
        "id": "-UoUjv_vIH9X",
        "outputId": "26b8dc6e-a2c2-4316-eb01-78bae8c4d562"
      },
      "execution_count": 55,
      "outputs": [
        {
          "output_type": "execute_result",
          "data": {
            "text/plain": [
              "(3, 4)"
            ]
          },
          "metadata": {},
          "execution_count": 55
        }
      ]
    },
    {
      "cell_type": "code",
      "source": [
        "a.ndim"
      ],
      "metadata": {
        "colab": {
          "base_uri": "https://localhost:8080/"
        },
        "id": "DAxuGYt8IKFg",
        "outputId": "cb3029e6-9800-4db0-dad8-521480f29576"
      },
      "execution_count": 56,
      "outputs": [
        {
          "output_type": "execute_result",
          "data": {
            "text/plain": [
              "2"
            ]
          },
          "metadata": {},
          "execution_count": 56
        }
      ]
    },
    {
      "cell_type": "code",
      "source": [
        "b = a.reshape(-1,3)"
      ],
      "metadata": {
        "id": "NLx99j37IMUO"
      },
      "execution_count": 57,
      "outputs": []
    },
    {
      "cell_type": "code",
      "source": [
        "a.shape"
      ],
      "metadata": {
        "colab": {
          "base_uri": "https://localhost:8080/"
        },
        "id": "4sm-bqJeIbgf",
        "outputId": "b4fc9fbc-3adb-4f21-e666-c94c91088281"
      },
      "execution_count": 58,
      "outputs": [
        {
          "output_type": "execute_result",
          "data": {
            "text/plain": [
              "(3, 4)"
            ]
          },
          "metadata": {},
          "execution_count": 58
        }
      ]
    },
    {
      "cell_type": "code",
      "source": [
        "b.shape"
      ],
      "metadata": {
        "colab": {
          "base_uri": "https://localhost:8080/"
        },
        "id": "EWGR9I8SIkWY",
        "outputId": "7b0b8bd9-a3ef-4e8e-a21a-63708779d15e"
      },
      "execution_count": 59,
      "outputs": [
        {
          "output_type": "execute_result",
          "data": {
            "text/plain": [
              "(4, 3)"
            ]
          },
          "metadata": {},
          "execution_count": 59
        }
      ]
    },
    {
      "cell_type": "code",
      "source": [
        "b = np.ones(5)\n",
        "print(b)"
      ],
      "metadata": {
        "colab": {
          "base_uri": "https://localhost:8080/"
        },
        "id": "s0jlmkdMIyX9",
        "outputId": "47b395f3-f7ab-4ab1-c83f-1a5718cb113a"
      },
      "execution_count": 60,
      "outputs": [
        {
          "output_type": "stream",
          "name": "stdout",
          "text": [
            "[1. 1. 1. 1. 1.]\n"
          ]
        }
      ]
    },
    {
      "cell_type": "code",
      "source": [
        "a = np.arange(5)"
      ],
      "metadata": {
        "id": "2S4MU1VGI6ac"
      },
      "execution_count": 61,
      "outputs": []
    },
    {
      "cell_type": "code",
      "source": [
        "print(a)"
      ],
      "metadata": {
        "colab": {
          "base_uri": "https://localhost:8080/"
        },
        "id": "FDTfUAIoJBq-",
        "outputId": "916b3936-8025-45ab-f72a-d5abb204f573"
      },
      "execution_count": 62,
      "outputs": [
        {
          "output_type": "stream",
          "name": "stdout",
          "text": [
            "[0 1 2 3 4]\n"
          ]
        }
      ]
    },
    {
      "cell_type": "code",
      "source": [
        "print(a*b)"
      ],
      "metadata": {
        "colab": {
          "base_uri": "https://localhost:8080/"
        },
        "id": "WqhsqnH5JCXB",
        "outputId": "0c6bc9fb-cc42-40b5-f64b-99c711fad62d"
      },
      "execution_count": 63,
      "outputs": [
        {
          "output_type": "stream",
          "name": "stdout",
          "text": [
            "[0. 1. 2. 3. 4.]\n"
          ]
        }
      ]
    },
    {
      "cell_type": "code",
      "source": [
        "c = np.ones(6)\n",
        "print(c)"
      ],
      "metadata": {
        "colab": {
          "base_uri": "https://localhost:8080/"
        },
        "id": "GfkOCdJIJeWu",
        "outputId": "836def5e-c92f-4aac-b9ee-38debe4558f9"
      },
      "execution_count": 64,
      "outputs": [
        {
          "output_type": "stream",
          "name": "stdout",
          "text": [
            "[1. 1. 1. 1. 1. 1.]\n"
          ]
        }
      ]
    },
    {
      "cell_type": "code",
      "source": [
        "print(a*c)"
      ],
      "metadata": {
        "colab": {
          "base_uri": "https://localhost:8080/",
          "height": 179
        },
        "id": "ACv5mDpbJnHb",
        "outputId": "aeac6bde-84f8-46c5-a4ca-89786f7aa505"
      },
      "execution_count": 65,
      "outputs": [
        {
          "output_type": "error",
          "ename": "ValueError",
          "evalue": "ignored",
          "traceback": [
            "\u001b[0;31m---------------------------------------------------------------------------\u001b[0m",
            "\u001b[0;31mValueError\u001b[0m                                Traceback (most recent call last)",
            "\u001b[0;32m<ipython-input-65-0084601c89cd>\u001b[0m in \u001b[0;36m<cell line: 1>\u001b[0;34m()\u001b[0m\n\u001b[0;32m----> 1\u001b[0;31m \u001b[0mprint\u001b[0m\u001b[0;34m(\u001b[0m\u001b[0ma\u001b[0m\u001b[0;34m*\u001b[0m\u001b[0mc\u001b[0m\u001b[0;34m)\u001b[0m\u001b[0;34m\u001b[0m\u001b[0;34m\u001b[0m\u001b[0m\n\u001b[0m",
            "\u001b[0;31mValueError\u001b[0m: operands could not be broadcast together with shapes (5,) (6,) "
          ]
        }
      ]
    },
    {
      "cell_type": "code",
      "source": [
        "#HW--> to do the same for a+b, a-b"
      ],
      "metadata": {
        "id": "U7_lq7bdJqgT"
      },
      "execution_count": 66,
      "outputs": []
    },
    {
      "cell_type": "code",
      "source": [
        "#Terminologies:\n",
        "'''\n",
        "1D --> vector\n",
        "2D --> Matrix\n",
        "3D --> Tensor\n",
        "'''"
      ],
      "metadata": {
        "colab": {
          "base_uri": "https://localhost:8080/",
          "height": 35
        },
        "id": "O-DSptbLJ2Tz",
        "outputId": "fa31f374-9b9d-49f4-d24d-2869b8f4985b"
      },
      "execution_count": 67,
      "outputs": [
        {
          "output_type": "execute_result",
          "data": {
            "text/plain": [
              "'\\n1D --> vector\\n2D --> Matrix\\n3D --> Tensor\\n'"
            ],
            "application/vnd.google.colaboratory.intrinsic+json": {
              "type": "string"
            }
          },
          "metadata": {},
          "execution_count": 67
        }
      ]
    },
    {
      "cell_type": "code",
      "source": [
        "a = np.arange(1,13).reshape(3,4)\n",
        "print(a)"
      ],
      "metadata": {
        "colab": {
          "base_uri": "https://localhost:8080/"
        },
        "id": "_Xy_VnGQKI_W",
        "outputId": "41efdc6b-a7df-4a1a-de58-3c46c8d0b54c"
      },
      "execution_count": 68,
      "outputs": [
        {
          "output_type": "stream",
          "name": "stdout",
          "text": [
            "[[ 1  2  3  4]\n",
            " [ 5  6  7  8]\n",
            " [ 9 10 11 12]]\n"
          ]
        }
      ]
    },
    {
      "cell_type": "code",
      "source": [
        "b = np.arange(2,14).reshape(3,4)\n",
        "print(b)"
      ],
      "metadata": {
        "colab": {
          "base_uri": "https://localhost:8080/"
        },
        "id": "-LYNkLjJKLSl",
        "outputId": "10e56e1a-7d76-49c6-a6da-4a99ee22cf26"
      },
      "execution_count": 69,
      "outputs": [
        {
          "output_type": "stream",
          "name": "stdout",
          "text": [
            "[[ 2  3  4  5]\n",
            " [ 6  7  8  9]\n",
            " [10 11 12 13]]\n"
          ]
        }
      ]
    },
    {
      "cell_type": "code",
      "source": [
        "print(a+b) #element wise operation"
      ],
      "metadata": {
        "colab": {
          "base_uri": "https://localhost:8080/"
        },
        "id": "ID7VrW09KU0K",
        "outputId": "efce7f36-bc13-415c-c8f0-1d931fbfc2bb"
      },
      "execution_count": 70,
      "outputs": [
        {
          "output_type": "stream",
          "name": "stdout",
          "text": [
            "[[ 3  5  7  9]\n",
            " [11 13 15 17]\n",
            " [19 21 23 25]]\n"
          ]
        }
      ]
    },
    {
      "cell_type": "code",
      "source": [
        "print(a*b) #element wise multiplication"
      ],
      "metadata": {
        "colab": {
          "base_uri": "https://localhost:8080/"
        },
        "id": "in1r4sMAKveT",
        "outputId": "2c962f26-ea16-4d84-d732-b39dc734acb3"
      },
      "execution_count": 71,
      "outputs": [
        {
          "output_type": "stream",
          "name": "stdout",
          "text": [
            "[[  2   6  12  20]\n",
            " [ 30  42  56  72]\n",
            " [ 90 110 132 156]]\n"
          ]
        }
      ]
    },
    {
      "cell_type": "code",
      "source": [
        "print(a)"
      ],
      "metadata": {
        "colab": {
          "base_uri": "https://localhost:8080/"
        },
        "id": "bEuh4WDoK3ni",
        "outputId": "9bf54cf2-4db5-47e1-a930-9b8696dc45d0"
      },
      "execution_count": 72,
      "outputs": [
        {
          "output_type": "stream",
          "name": "stdout",
          "text": [
            "[[ 1  2  3  4]\n",
            " [ 5  6  7  8]\n",
            " [ 9 10 11 12]]\n"
          ]
        }
      ]
    },
    {
      "cell_type": "code",
      "source": [
        "print(b)"
      ],
      "metadata": {
        "colab": {
          "base_uri": "https://localhost:8080/"
        },
        "id": "YgxS-MoeMm-1",
        "outputId": "03ca785a-c3cb-4f85-f4ce-378bb9f4dfcc"
      },
      "execution_count": 73,
      "outputs": [
        {
          "output_type": "stream",
          "name": "stdout",
          "text": [
            "[[ 2  3  4  5]\n",
            " [ 6  7  8  9]\n",
            " [10 11 12 13]]\n"
          ]
        }
      ]
    },
    {
      "cell_type": "code",
      "source": [
        "a.shape"
      ],
      "metadata": {
        "colab": {
          "base_uri": "https://localhost:8080/"
        },
        "id": "e_hMHTaTMnZA",
        "outputId": "3c6dcdbd-2226-430b-9f8c-859ce88ce151"
      },
      "execution_count": 75,
      "outputs": [
        {
          "output_type": "execute_result",
          "data": {
            "text/plain": [
              "(3, 4)"
            ]
          },
          "metadata": {},
          "execution_count": 75
        }
      ]
    },
    {
      "cell_type": "code",
      "source": [
        "b.shape"
      ],
      "metadata": {
        "colab": {
          "base_uri": "https://localhost:8080/"
        },
        "id": "7x7OnmiiMqc3",
        "outputId": "13591792-34a0-4db1-a9d8-d9d737f4ef5d"
      },
      "execution_count": 76,
      "outputs": [
        {
          "output_type": "execute_result",
          "data": {
            "text/plain": [
              "(3, 4)"
            ]
          },
          "metadata": {},
          "execution_count": 76
        }
      ]
    },
    {
      "cell_type": "code",
      "source": [
        "b = b.reshape(4,3)\n",
        "print(b)"
      ],
      "metadata": {
        "colab": {
          "base_uri": "https://localhost:8080/"
        },
        "id": "XG8eZIdIMsFm",
        "outputId": "c8697d81-4932-419d-bd20-ec236d23eb1a"
      },
      "execution_count": 77,
      "outputs": [
        {
          "output_type": "stream",
          "name": "stdout",
          "text": [
            "[[ 2  3  4]\n",
            " [ 5  6  7]\n",
            " [ 8  9 10]\n",
            " [11 12 13]]\n"
          ]
        }
      ]
    },
    {
      "cell_type": "code",
      "source": [
        "a.shape"
      ],
      "metadata": {
        "colab": {
          "base_uri": "https://localhost:8080/"
        },
        "id": "wDZGutoCM1a3",
        "outputId": "ab3e1ea9-bf6e-4aea-f4d5-ac7857be6a7c"
      },
      "execution_count": 78,
      "outputs": [
        {
          "output_type": "execute_result",
          "data": {
            "text/plain": [
              "(3, 4)"
            ]
          },
          "metadata": {},
          "execution_count": 78
        }
      ]
    },
    {
      "cell_type": "code",
      "source": [
        "b.shape"
      ],
      "metadata": {
        "colab": {
          "base_uri": "https://localhost:8080/"
        },
        "id": "sf-SyYiTM6HL",
        "outputId": "01a948b2-71d2-493c-e806-d9aedb5e733f"
      },
      "execution_count": 79,
      "outputs": [
        {
          "output_type": "execute_result",
          "data": {
            "text/plain": [
              "(4, 3)"
            ]
          },
          "metadata": {},
          "execution_count": 79
        }
      ]
    },
    {
      "cell_type": "code",
      "source": [
        "#Matrix Multiplication"
      ],
      "metadata": {
        "id": "mV7mtyvyNIO8"
      },
      "execution_count": 84,
      "outputs": []
    },
    {
      "cell_type": "code",
      "source": [
        "c = np.dot(a,b)"
      ],
      "metadata": {
        "id": "IUzwXnk5M68g"
      },
      "execution_count": 81,
      "outputs": []
    },
    {
      "cell_type": "code",
      "source": [
        "c.shape"
      ],
      "metadata": {
        "colab": {
          "base_uri": "https://localhost:8080/"
        },
        "id": "EtLVDcUsNERS",
        "outputId": "7e05106b-44a1-48f1-9b80-26cdc10ef012"
      },
      "execution_count": 82,
      "outputs": [
        {
          "output_type": "execute_result",
          "data": {
            "text/plain": [
              "(3, 3)"
            ]
          },
          "metadata": {},
          "execution_count": 82
        }
      ]
    },
    {
      "cell_type": "code",
      "source": [
        "print(a)"
      ],
      "metadata": {
        "colab": {
          "base_uri": "https://localhost:8080/"
        },
        "id": "NcuUmj8DNK2n",
        "outputId": "d702a454-5f10-4824-b383-c930b4264139"
      },
      "execution_count": 85,
      "outputs": [
        {
          "output_type": "stream",
          "name": "stdout",
          "text": [
            "[[ 1  2  3  4]\n",
            " [ 5  6  7  8]\n",
            " [ 9 10 11 12]]\n"
          ]
        }
      ]
    },
    {
      "cell_type": "code",
      "source": [
        "print(b)"
      ],
      "metadata": {
        "colab": {
          "base_uri": "https://localhost:8080/"
        },
        "id": "yyVS5B7cNMz5",
        "outputId": "e6e8876a-0005-4024-f981-e8cdef697088"
      },
      "execution_count": 86,
      "outputs": [
        {
          "output_type": "stream",
          "name": "stdout",
          "text": [
            "[[ 2  3  4]\n",
            " [ 5  6  7]\n",
            " [ 8  9 10]\n",
            " [11 12 13]]\n"
          ]
        }
      ]
    },
    {
      "cell_type": "code",
      "source": [
        "print(c)"
      ],
      "metadata": {
        "colab": {
          "base_uri": "https://localhost:8080/"
        },
        "id": "c2fDBOF2NGt3",
        "outputId": "f78588c8-4e56-4609-b25e-abb09c4eccda"
      },
      "execution_count": 83,
      "outputs": [
        {
          "output_type": "stream",
          "name": "stdout",
          "text": [
            "[[ 80  90 100]\n",
            " [184 210 236]\n",
            " [288 330 372]]\n"
          ]
        }
      ]
    },
    {
      "cell_type": "code",
      "source": [
        "c = a@b\n",
        "print(c)"
      ],
      "metadata": {
        "colab": {
          "base_uri": "https://localhost:8080/"
        },
        "id": "XKQwDBN2NHaO",
        "outputId": "51a2788e-d22d-4693-bb97-5f791b9515dc"
      },
      "execution_count": 87,
      "outputs": [
        {
          "output_type": "stream",
          "name": "stdout",
          "text": [
            "[[ 80  90 100]\n",
            " [184 210 236]\n",
            " [288 330 372]]\n"
          ]
        }
      ]
    },
    {
      "cell_type": "code",
      "source": [
        "c = np.matmul(a,b)\n",
        "print(c)"
      ],
      "metadata": {
        "colab": {
          "base_uri": "https://localhost:8080/"
        },
        "id": "ek1xH9xvNb6e",
        "outputId": "35afb808-b15c-4a0a-c611-3bcbc32a7671"
      },
      "execution_count": 88,
      "outputs": [
        {
          "output_type": "stream",
          "name": "stdout",
          "text": [
            "[[ 80  90 100]\n",
            " [184 210 236]\n",
            " [288 330 372]]\n"
          ]
        }
      ]
    },
    {
      "cell_type": "code",
      "source": [
        "a = np.arange(1,10)\n",
        "print(a)"
      ],
      "metadata": {
        "colab": {
          "base_uri": "https://localhost:8080/"
        },
        "id": "kvw73NwVNiy2",
        "outputId": "83bfc192-d6f8-4834-b9af-91a770035019"
      },
      "execution_count": 89,
      "outputs": [
        {
          "output_type": "stream",
          "name": "stdout",
          "text": [
            "[1 2 3 4 5 6 7 8 9]\n"
          ]
        }
      ]
    },
    {
      "cell_type": "code",
      "source": [
        "a*3"
      ],
      "metadata": {
        "colab": {
          "base_uri": "https://localhost:8080/"
        },
        "id": "2jaDd5w8NyWh",
        "outputId": "f106ae5b-77c4-4637-fa24-65c5a22be0e1"
      },
      "execution_count": 90,
      "outputs": [
        {
          "output_type": "execute_result",
          "data": {
            "text/plain": [
              "array([ 3,  6,  9, 12, 15, 18, 21, 24, 27])"
            ]
          },
          "metadata": {},
          "execution_count": 90
        }
      ]
    },
    {
      "cell_type": "code",
      "source": [
        "np.dot(a,3)"
      ],
      "metadata": {
        "colab": {
          "base_uri": "https://localhost:8080/"
        },
        "id": "h1JFIxjGN4OE",
        "outputId": "2a5b4a0a-1229-4843-bf32-cb75ce50463c"
      },
      "execution_count": 91,
      "outputs": [
        {
          "output_type": "execute_result",
          "data": {
            "text/plain": [
              "array([ 3,  6,  9, 12, 15, 18, 21, 24, 27])"
            ]
          },
          "metadata": {},
          "execution_count": 91
        }
      ]
    },
    {
      "cell_type": "code",
      "source": [
        "np.matmul(a,3)"
      ],
      "metadata": {
        "colab": {
          "base_uri": "https://localhost:8080/",
          "height": 179
        },
        "id": "IYuGvBhyN_85",
        "outputId": "35658aa1-986a-436c-e8c2-c35db2cd7556"
      },
      "execution_count": 92,
      "outputs": [
        {
          "output_type": "error",
          "ename": "ValueError",
          "evalue": "ignored",
          "traceback": [
            "\u001b[0;31m---------------------------------------------------------------------------\u001b[0m",
            "\u001b[0;31mValueError\u001b[0m                                Traceback (most recent call last)",
            "\u001b[0;32m<ipython-input-92-89c0586a108b>\u001b[0m in \u001b[0;36m<cell line: 1>\u001b[0;34m()\u001b[0m\n\u001b[0;32m----> 1\u001b[0;31m \u001b[0mnp\u001b[0m\u001b[0;34m.\u001b[0m\u001b[0mmatmul\u001b[0m\u001b[0;34m(\u001b[0m\u001b[0ma\u001b[0m\u001b[0;34m,\u001b[0m\u001b[0;36m3\u001b[0m\u001b[0;34m)\u001b[0m\u001b[0;34m\u001b[0m\u001b[0;34m\u001b[0m\u001b[0m\n\u001b[0m",
            "\u001b[0;31mValueError\u001b[0m: matmul: Input operand 1 does not have enough dimensions (has 0, gufunc core with signature (n?,k),(k,m?)->(n?,m?) requires 1)"
          ]
        }
      ]
    },
    {
      "cell_type": "code",
      "source": [
        "np.zeros(10)"
      ],
      "metadata": {
        "colab": {
          "base_uri": "https://localhost:8080/"
        },
        "id": "-ug5tJCLOCqP",
        "outputId": "9ada5055-99ce-49d2-8586-bf8b1fd9c1c5"
      },
      "execution_count": 93,
      "outputs": [
        {
          "output_type": "execute_result",
          "data": {
            "text/plain": [
              "array([0., 0., 0., 0., 0., 0., 0., 0., 0., 0.])"
            ]
          },
          "metadata": {},
          "execution_count": 93
        }
      ]
    },
    {
      "cell_type": "code",
      "source": [
        "a = np.arange(4)\n",
        "print(a)"
      ],
      "metadata": {
        "colab": {
          "base_uri": "https://localhost:8080/"
        },
        "id": "uLP9hqLCYGJ0",
        "outputId": "f7fbb4cd-eef5-41ee-e435-c37557608170"
      },
      "execution_count": 131,
      "outputs": [
        {
          "output_type": "stream",
          "name": "stdout",
          "text": [
            "[0 1 2 3]\n"
          ]
        }
      ]
    },
    {
      "cell_type": "code",
      "source": [
        "b = np.arange(1,5)\n",
        "print(b)"
      ],
      "metadata": {
        "colab": {
          "base_uri": "https://localhost:8080/"
        },
        "id": "8bLreXfjYGFX",
        "outputId": "c932fdb3-8b47-4da8-8275-252a6934f5c8"
      },
      "execution_count": 132,
      "outputs": [
        {
          "output_type": "stream",
          "name": "stdout",
          "text": [
            "[1 2 3 4]\n"
          ]
        }
      ]
    },
    {
      "cell_type": "code",
      "source": [
        "np.dot(a,b)"
      ],
      "metadata": {
        "colab": {
          "base_uri": "https://localhost:8080/"
        },
        "id": "J5L6Maz-YGCi",
        "outputId": "11ec8b09-7020-41c8-bef9-0742c98d91b3"
      },
      "execution_count": 133,
      "outputs": [
        {
          "output_type": "execute_result",
          "data": {
            "text/plain": [
              "20"
            ]
          },
          "metadata": {},
          "execution_count": 133
        }
      ]
    },
    {
      "cell_type": "code",
      "source": [
        "np.matmul(a,b) #dot product"
      ],
      "metadata": {
        "colab": {
          "base_uri": "https://localhost:8080/"
        },
        "id": "m885KAegYF6L",
        "outputId": "c1ab3fc5-fe3a-40db-97d7-0ffbde49db99"
      },
      "execution_count": 134,
      "outputs": [
        {
          "output_type": "execute_result",
          "data": {
            "text/plain": [
              "20"
            ]
          },
          "metadata": {},
          "execution_count": 134
        }
      ]
    },
    {
      "cell_type": "code",
      "source": [
        "print(a*b)"
      ],
      "metadata": {
        "colab": {
          "base_uri": "https://localhost:8080/"
        },
        "id": "pscl3XbAYpcE",
        "outputId": "f849c85c-67bc-4ea4-9a06-edbd8258a8c6"
      },
      "execution_count": 135,
      "outputs": [
        {
          "output_type": "stream",
          "name": "stdout",
          "text": [
            "[ 0  2  6 12]\n"
          ]
        }
      ]
    },
    {
      "cell_type": "code",
      "source": [
        "#Brodcasting"
      ],
      "metadata": {
        "id": "t3CbmT-6PZdf"
      },
      "execution_count": 94,
      "outputs": []
    },
    {
      "cell_type": "code",
      "source": [],
      "metadata": {
        "id": "rxnAdG8hTJTf"
      },
      "execution_count": null,
      "outputs": []
    },
    {
      "cell_type": "markdown",
      "source": [
        "![image.png](data:image/png;base64,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)"
      ],
      "metadata": {
        "id": "II167oHlTK2U"
      }
    },
    {
      "cell_type": "code",
      "source": [
        "a = np.arange(0, 40, 10)\n",
        "print(a)"
      ],
      "metadata": {
        "colab": {
          "base_uri": "https://localhost:8080/"
        },
        "id": "ptcp8PJ-TN68",
        "outputId": "f9ff8d4f-fe5b-4a1a-88f4-daa8fe12a914"
      },
      "execution_count": 95,
      "outputs": [
        {
          "output_type": "stream",
          "name": "stdout",
          "text": [
            "[ 0 10 20 30]\n"
          ]
        }
      ]
    },
    {
      "cell_type": "code",
      "source": [
        "b = np.tile(a, (3,1))"
      ],
      "metadata": {
        "id": "zcFxuBcMT2_I"
      },
      "execution_count": 96,
      "outputs": []
    },
    {
      "cell_type": "code",
      "source": [
        "print(b)"
      ],
      "metadata": {
        "colab": {
          "base_uri": "https://localhost:8080/"
        },
        "id": "22gZagxrURca",
        "outputId": "5277c9a5-f843-44ce-e430-084cfe8fe39b"
      },
      "execution_count": 97,
      "outputs": [
        {
          "output_type": "stream",
          "name": "stdout",
          "text": [
            "[[ 0 10 20 30]\n",
            " [ 0 10 20 30]\n",
            " [ 0 10 20 30]]\n"
          ]
        }
      ]
    },
    {
      "cell_type": "code",
      "source": [
        "b = np.tile(a, (3,2))\n",
        "print(b)"
      ],
      "metadata": {
        "colab": {
          "base_uri": "https://localhost:8080/"
        },
        "id": "CWKh0PqtUUcp",
        "outputId": "af34474d-ac6a-4f86-8f9e-5c73b02c444a"
      },
      "execution_count": 98,
      "outputs": [
        {
          "output_type": "stream",
          "name": "stdout",
          "text": [
            "[[ 0 10 20 30  0 10 20 30]\n",
            " [ 0 10 20 30  0 10 20 30]\n",
            " [ 0 10 20 30  0 10 20 30]]\n"
          ]
        }
      ]
    },
    {
      "cell_type": "code",
      "source": [
        "b.shape"
      ],
      "metadata": {
        "colab": {
          "base_uri": "https://localhost:8080/"
        },
        "id": "nD_Iq6kXUb2D",
        "outputId": "1a3b7ebc-e7c4-41cf-878b-caccf6e156cf"
      },
      "execution_count": 99,
      "outputs": [
        {
          "output_type": "execute_result",
          "data": {
            "text/plain": [
              "(3, 8)"
            ]
          },
          "metadata": {},
          "execution_count": 99
        }
      ]
    },
    {
      "cell_type": "code",
      "source": [
        "print(b[0])"
      ],
      "metadata": {
        "colab": {
          "base_uri": "https://localhost:8080/"
        },
        "id": "jhPuTQaSUlNh",
        "outputId": "737f0517-2d96-4046-ee3c-266321c805e8"
      },
      "execution_count": 100,
      "outputs": [
        {
          "output_type": "stream",
          "name": "stdout",
          "text": [
            "[ 0 10 20 30  0 10 20 30]\n"
          ]
        }
      ]
    },
    {
      "cell_type": "code",
      "source": [
        "len(b[0])"
      ],
      "metadata": {
        "colab": {
          "base_uri": "https://localhost:8080/"
        },
        "id": "ifwJsKeTUvhE",
        "outputId": "7ece62ad-18e7-4ff9-e5a9-fd429c008f57"
      },
      "execution_count": 101,
      "outputs": [
        {
          "output_type": "execute_result",
          "data": {
            "text/plain": [
              "8"
            ]
          },
          "metadata": {},
          "execution_count": 101
        }
      ]
    },
    {
      "cell_type": "code",
      "source": [
        "a = np.arange(0,40,10)\n",
        "print(a)"
      ],
      "metadata": {
        "colab": {
          "base_uri": "https://localhost:8080/"
        },
        "id": "NF_XDfGAUxFt",
        "outputId": "03f0800f-a2ba-4bbc-edd3-141365b4d7ed"
      },
      "execution_count": 103,
      "outputs": [
        {
          "output_type": "stream",
          "name": "stdout",
          "text": [
            "[ 0 10 20 30]\n"
          ]
        }
      ]
    },
    {
      "cell_type": "code",
      "source": [
        "b = np.tile(a, (3,1))\n",
        "print(b)"
      ],
      "metadata": {
        "colab": {
          "base_uri": "https://localhost:8080/"
        },
        "id": "sp1s5IbiU2nh",
        "outputId": "0f61df71-ffee-4c7b-b693-e251a6bc1d83"
      },
      "execution_count": 105,
      "outputs": [
        {
          "output_type": "stream",
          "name": "stdout",
          "text": [
            "[[ 0 10 20 30]\n",
            " [ 0 10 20 30]\n",
            " [ 0 10 20 30]]\n"
          ]
        }
      ]
    },
    {
      "cell_type": "code",
      "source": [
        "b = b.T\n",
        "print(b)"
      ],
      "metadata": {
        "colab": {
          "base_uri": "https://localhost:8080/"
        },
        "id": "Xz9xdCzEU67J",
        "outputId": "717c382b-9660-466b-9ac1-67a3b5497902"
      },
      "execution_count": 106,
      "outputs": [
        {
          "output_type": "stream",
          "name": "stdout",
          "text": [
            "[[ 0  0  0]\n",
            " [10 10 10]\n",
            " [20 20 20]\n",
            " [30 30 30]]\n"
          ]
        }
      ]
    },
    {
      "cell_type": "code",
      "source": [
        "a = np.arange(0,3)\n",
        "print(a)"
      ],
      "metadata": {
        "colab": {
          "base_uri": "https://localhost:8080/"
        },
        "id": "QsZMCOjuVEvW",
        "outputId": "2b6594da-9450-48b5-a0c5-74d0b79b3dc1"
      },
      "execution_count": 107,
      "outputs": [
        {
          "output_type": "stream",
          "name": "stdout",
          "text": [
            "[0 1 2]\n"
          ]
        }
      ]
    },
    {
      "cell_type": "code",
      "source": [
        "c = np.tile(a, (4,1))\n",
        "print(c)"
      ],
      "metadata": {
        "colab": {
          "base_uri": "https://localhost:8080/"
        },
        "id": "2Ncw8LsdVLGq",
        "outputId": "055786dd-e943-476f-bd0b-ad72e53372ba"
      },
      "execution_count": 108,
      "outputs": [
        {
          "output_type": "stream",
          "name": "stdout",
          "text": [
            "[[0 1 2]\n",
            " [0 1 2]\n",
            " [0 1 2]\n",
            " [0 1 2]]\n"
          ]
        }
      ]
    },
    {
      "cell_type": "code",
      "source": [
        "ans = b+c\n",
        "print(ans) #case1"
      ],
      "metadata": {
        "colab": {
          "base_uri": "https://localhost:8080/"
        },
        "id": "gYfwDzmkVasP",
        "outputId": "4f834004-534e-4669-d73b-6c7b304a526a"
      },
      "execution_count": 109,
      "outputs": [
        {
          "output_type": "stream",
          "name": "stdout",
          "text": [
            "[[ 0  1  2]\n",
            " [10 11 12]\n",
            " [20 21 22]\n",
            " [30 31 32]]\n"
          ]
        }
      ]
    },
    {
      "cell_type": "code",
      "source": [
        "#case2"
      ],
      "metadata": {
        "id": "VX4WPTePViwt"
      },
      "execution_count": 110,
      "outputs": []
    },
    {
      "cell_type": "code",
      "source": [
        "a = b\n",
        "print(a)"
      ],
      "metadata": {
        "colab": {
          "base_uri": "https://localhost:8080/"
        },
        "id": "QLv6iZgIVqVn",
        "outputId": "0b6601f6-1a66-473e-f470-578c2b52440d"
      },
      "execution_count": 111,
      "outputs": [
        {
          "output_type": "stream",
          "name": "stdout",
          "text": [
            "[[ 0  0  0]\n",
            " [10 10 10]\n",
            " [20 20 20]\n",
            " [30 30 30]]\n"
          ]
        }
      ]
    },
    {
      "cell_type": "code",
      "source": [
        "b = np.arange(0,3)\n",
        "print(b)"
      ],
      "metadata": {
        "colab": {
          "base_uri": "https://localhost:8080/"
        },
        "id": "hT17rmOVVrYW",
        "outputId": "73dc7362-81e1-41ae-fc7a-a6abf9a86388"
      },
      "execution_count": 112,
      "outputs": [
        {
          "output_type": "stream",
          "name": "stdout",
          "text": [
            "[0 1 2]\n"
          ]
        }
      ]
    },
    {
      "cell_type": "code",
      "source": [
        "print(a+b) #brodcasting"
      ],
      "metadata": {
        "colab": {
          "base_uri": "https://localhost:8080/"
        },
        "id": "l_fxqT1WVuh3",
        "outputId": "afb762a2-6859-4e23-a26b-1cd78540afa4"
      },
      "execution_count": 113,
      "outputs": [
        {
          "output_type": "stream",
          "name": "stdout",
          "text": [
            "[[ 0  1  2]\n",
            " [10 11 12]\n",
            " [20 21 22]\n",
            " [30 31 32]]\n"
          ]
        }
      ]
    },
    {
      "cell_type": "code",
      "source": [
        "#case3"
      ],
      "metadata": {
        "id": "4ta3G1KxVyTH"
      },
      "execution_count": 114,
      "outputs": []
    },
    {
      "cell_type": "code",
      "source": [
        "a = np.arange(0,40,10)\n",
        "print(a)"
      ],
      "metadata": {
        "colab": {
          "base_uri": "https://localhost:8080/"
        },
        "id": "65Wavlu3WBwC",
        "outputId": "7107ee27-f7ea-43f6-baf1-ea7f0d60118a"
      },
      "execution_count": 121,
      "outputs": [
        {
          "output_type": "stream",
          "name": "stdout",
          "text": [
            "[ 0 10 20 30]\n"
          ]
        }
      ]
    },
    {
      "cell_type": "code",
      "source": [
        "a = a.reshape(4,1)\n",
        "print(a)"
      ],
      "metadata": {
        "colab": {
          "base_uri": "https://localhost:8080/"
        },
        "id": "OVeQhBrUWLTZ",
        "outputId": "f6fbf544-e23e-4812-cf3d-5dce782430dd"
      },
      "execution_count": 122,
      "outputs": [
        {
          "output_type": "stream",
          "name": "stdout",
          "text": [
            "[[ 0]\n",
            " [10]\n",
            " [20]\n",
            " [30]]\n"
          ]
        }
      ]
    },
    {
      "cell_type": "code",
      "source": [
        "a.shape"
      ],
      "metadata": {
        "colab": {
          "base_uri": "https://localhost:8080/"
        },
        "id": "MrdfhBKrWuDR",
        "outputId": "dbe17cc5-729b-4a1e-9eb4-332194b7b286"
      },
      "execution_count": 123,
      "outputs": [
        {
          "output_type": "execute_result",
          "data": {
            "text/plain": [
              "(4, 1)"
            ]
          },
          "metadata": {},
          "execution_count": 123
        }
      ]
    },
    {
      "cell_type": "code",
      "source": [
        "b = np.arange(0,3)\n",
        "print(b)"
      ],
      "metadata": {
        "colab": {
          "base_uri": "https://localhost:8080/"
        },
        "id": "evPVgbouWQEd",
        "outputId": "5aab3cd6-d059-4e82-ad84-dadebaa535c5"
      },
      "execution_count": 124,
      "outputs": [
        {
          "output_type": "stream",
          "name": "stdout",
          "text": [
            "[0 1 2]\n"
          ]
        }
      ]
    },
    {
      "cell_type": "code",
      "source": [
        "b.shape"
      ],
      "metadata": {
        "colab": {
          "base_uri": "https://localhost:8080/"
        },
        "id": "1vzwYQJxWv7D",
        "outputId": "4730ab4d-b7d0-4436-9774-dc637dac81cf"
      },
      "execution_count": 125,
      "outputs": [
        {
          "output_type": "execute_result",
          "data": {
            "text/plain": [
              "(3,)"
            ]
          },
          "metadata": {},
          "execution_count": 125
        }
      ]
    },
    {
      "cell_type": "code",
      "source": [
        "print(a+b)"
      ],
      "metadata": {
        "colab": {
          "base_uri": "https://localhost:8080/"
        },
        "id": "kRFuXW9kWUF9",
        "outputId": "f48b3238-4377-4657-e50f-8a881b07593a"
      },
      "execution_count": 120,
      "outputs": [
        {
          "output_type": "stream",
          "name": "stdout",
          "text": [
            "[[ 0  1  2]\n",
            " [10 11 12]\n",
            " [20 21 22]\n",
            " [30 31 32]]\n"
          ]
        }
      ]
    },
    {
      "cell_type": "markdown",
      "source": [
        "Let's learn about some **General Broadcasting Rules**\n",
        "\n",
        "    For each dimension ( going from right side)\n",
        "        1. The size of each dimension should be same OR\n",
        "        2. The size of one dimension should be 1"
      ],
      "metadata": {
        "id": "j6o8baOTWjuG"
      }
    },
    {
      "cell_type": "code",
      "source": [
        "#HW is --> create some 2-3 examples of yourself using tile and above logic and validate the above rules."
      ],
      "metadata": {
        "id": "uJzE7DBJWXt7"
      },
      "execution_count": 126,
      "outputs": []
    },
    {
      "cell_type": "code",
      "source": [
        "#vectorization"
      ],
      "metadata": {
        "id": "U3J5-D3EXes8"
      },
      "execution_count": 127,
      "outputs": []
    },
    {
      "cell_type": "code",
      "source": [
        "a = np.arange(1,13)\n",
        "print(a)"
      ],
      "metadata": {
        "colab": {
          "base_uri": "https://localhost:8080/"
        },
        "id": "sXxg2K8kXw5Y",
        "outputId": "9f47d9b2-130c-466f-d264-636f24b39e74"
      },
      "execution_count": 140,
      "outputs": [
        {
          "output_type": "stream",
          "name": "stdout",
          "text": [
            "[ 1  2  3  4  5  6  7  8  9 10 11 12]\n"
          ]
        }
      ]
    },
    {
      "cell_type": "code",
      "source": [
        "print(a*2)"
      ],
      "metadata": {
        "colab": {
          "base_uri": "https://localhost:8080/"
        },
        "id": "VfVzqDMnX8R-",
        "outputId": "c935adb1-d009-4ffe-f344-e75dc63cd826"
      },
      "execution_count": 141,
      "outputs": [
        {
          "output_type": "stream",
          "name": "stdout",
          "text": [
            "[ 2  4  6  8 10 12 14 16 18 20 22 24]\n"
          ]
        }
      ]
    },
    {
      "cell_type": "code",
      "source": [
        "def even_odd(x):\n",
        "  if x%2 == 0:\n",
        "    x = x*2\n",
        "  else:\n",
        "    x = x*3\n",
        "\n",
        "  return x"
      ],
      "metadata": {
        "id": "fg6nHaUxYCfz"
      },
      "execution_count": 136,
      "outputs": []
    },
    {
      "cell_type": "code",
      "source": [
        "even_odd(3)"
      ],
      "metadata": {
        "colab": {
          "base_uri": "https://localhost:8080/"
        },
        "id": "DiukC3nkZH1z",
        "outputId": "a2823ed1-78fd-4cd5-b8f9-d2b61241137b"
      },
      "execution_count": 137,
      "outputs": [
        {
          "output_type": "execute_result",
          "data": {
            "text/plain": [
              "9"
            ]
          },
          "metadata": {},
          "execution_count": 137
        }
      ]
    },
    {
      "cell_type": "code",
      "source": [
        "even_odd(4)"
      ],
      "metadata": {
        "colab": {
          "base_uri": "https://localhost:8080/"
        },
        "id": "fxYp-WwpZMHv",
        "outputId": "4be70c3f-3a91-42b7-a273-161cc7087378"
      },
      "execution_count": 138,
      "outputs": [
        {
          "output_type": "execute_result",
          "data": {
            "text/plain": [
              "8"
            ]
          },
          "metadata": {},
          "execution_count": 138
        }
      ]
    },
    {
      "cell_type": "code",
      "source": [
        "print(a)"
      ],
      "metadata": {
        "colab": {
          "base_uri": "https://localhost:8080/"
        },
        "id": "a4rwk1NvZPim",
        "outputId": "66a330da-16fc-4c34-f9ca-522a9955cd75"
      },
      "execution_count": 142,
      "outputs": [
        {
          "output_type": "stream",
          "name": "stdout",
          "text": [
            "[ 1  2  3  4  5  6  7  8  9 10 11 12]\n"
          ]
        }
      ]
    },
    {
      "cell_type": "code",
      "source": [
        "even_odd(a)"
      ],
      "metadata": {
        "colab": {
          "base_uri": "https://localhost:8080/",
          "height": 304
        },
        "id": "rtuwocREZTi6",
        "outputId": "feec0162-dcfa-41c5-cad2-1efa7c5d87fa"
      },
      "execution_count": 143,
      "outputs": [
        {
          "output_type": "error",
          "ename": "ValueError",
          "evalue": "ignored",
          "traceback": [
            "\u001b[0;31m---------------------------------------------------------------------------\u001b[0m",
            "\u001b[0;31mValueError\u001b[0m                                Traceback (most recent call last)",
            "\u001b[0;32m<ipython-input-143-692bfd9e9b9e>\u001b[0m in \u001b[0;36m<cell line: 1>\u001b[0;34m()\u001b[0m\n\u001b[0;32m----> 1\u001b[0;31m \u001b[0meven_odd\u001b[0m\u001b[0;34m(\u001b[0m\u001b[0ma\u001b[0m\u001b[0;34m)\u001b[0m\u001b[0;34m\u001b[0m\u001b[0;34m\u001b[0m\u001b[0m\n\u001b[0m",
            "\u001b[0;32m<ipython-input-136-c0087edefc30>\u001b[0m in \u001b[0;36meven_odd\u001b[0;34m(x)\u001b[0m\n\u001b[1;32m      1\u001b[0m \u001b[0;32mdef\u001b[0m \u001b[0meven_odd\u001b[0m\u001b[0;34m(\u001b[0m\u001b[0mx\u001b[0m\u001b[0;34m)\u001b[0m\u001b[0;34m:\u001b[0m\u001b[0;34m\u001b[0m\u001b[0;34m\u001b[0m\u001b[0m\n\u001b[0;32m----> 2\u001b[0;31m   \u001b[0;32mif\u001b[0m \u001b[0mx\u001b[0m\u001b[0;34m%\u001b[0m\u001b[0;36m2\u001b[0m \u001b[0;34m==\u001b[0m \u001b[0;36m0\u001b[0m\u001b[0;34m:\u001b[0m\u001b[0;34m\u001b[0m\u001b[0;34m\u001b[0m\u001b[0m\n\u001b[0m\u001b[1;32m      3\u001b[0m     \u001b[0mx\u001b[0m \u001b[0;34m=\u001b[0m \u001b[0mx\u001b[0m\u001b[0;34m*\u001b[0m\u001b[0;36m2\u001b[0m\u001b[0;34m\u001b[0m\u001b[0;34m\u001b[0m\u001b[0m\n\u001b[1;32m      4\u001b[0m   \u001b[0;32melse\u001b[0m\u001b[0;34m:\u001b[0m\u001b[0;34m\u001b[0m\u001b[0;34m\u001b[0m\u001b[0m\n\u001b[1;32m      5\u001b[0m     \u001b[0mx\u001b[0m \u001b[0;34m=\u001b[0m \u001b[0mx\u001b[0m\u001b[0;34m*\u001b[0m\u001b[0;36m3\u001b[0m\u001b[0;34m\u001b[0m\u001b[0;34m\u001b[0m\u001b[0m\n",
            "\u001b[0;31mValueError\u001b[0m: The truth value of an array with more than one element is ambiguous. Use a.any() or a.all()"
          ]
        }
      ]
    },
    {
      "cell_type": "code",
      "source": [
        "even_odd_new = np.vectorize(even_odd) #vectorizing the method even_odd"
      ],
      "metadata": {
        "id": "87MTLDl4ZZfy"
      },
      "execution_count": 144,
      "outputs": []
    },
    {
      "cell_type": "code",
      "source": [
        "print(even_odd_new(a))"
      ],
      "metadata": {
        "colab": {
          "base_uri": "https://localhost:8080/"
        },
        "id": "UabPU-k7Zo8g",
        "outputId": "f9a51812-1371-44fb-e588-7333a092e1a2"
      },
      "execution_count": 145,
      "outputs": [
        {
          "output_type": "stream",
          "name": "stdout",
          "text": [
            "[ 3  4  9  8 15 12 21 16 27 20 33 24]\n"
          ]
        }
      ]
    },
    {
      "cell_type": "code",
      "source": [
        "print(a)"
      ],
      "metadata": {
        "colab": {
          "base_uri": "https://localhost:8080/"
        },
        "id": "GgpERN0sZtIl",
        "outputId": "67b12add-c074-4e08-a89f-96d4ca150316"
      },
      "execution_count": 146,
      "outputs": [
        {
          "output_type": "stream",
          "name": "stdout",
          "text": [
            "[ 1  2  3  4  5  6  7  8  9 10 11 12]\n"
          ]
        }
      ]
    },
    {
      "cell_type": "code",
      "source": [
        "import math"
      ],
      "metadata": {
        "id": "6N5qHLpjZvng"
      },
      "execution_count": 147,
      "outputs": []
    },
    {
      "cell_type": "code",
      "source": [
        "func1 = np.vectorize(math.log)"
      ],
      "metadata": {
        "id": "Fd7VfpZMaFTu"
      },
      "execution_count": 148,
      "outputs": []
    },
    {
      "cell_type": "code",
      "source": [
        "print(func1(a))"
      ],
      "metadata": {
        "colab": {
          "base_uri": "https://localhost:8080/"
        },
        "id": "7lmSr-mEaJ8Z",
        "outputId": "02ab38a7-b4b0-4ed2-e561-e2bd6649aee4"
      },
      "execution_count": 149,
      "outputs": [
        {
          "output_type": "stream",
          "name": "stdout",
          "text": [
            "[0.         0.69314718 1.09861229 1.38629436 1.60943791 1.79175947\n",
            " 1.94591015 2.07944154 2.19722458 2.30258509 2.39789527 2.48490665]\n"
          ]
        }
      ]
    },
    {
      "cell_type": "code",
      "source": [
        "#HW - Take a vector and write a code, where every even number is having the opposite sign and odd number\n",
        "# is made twice\n",
        "\n",
        "a = [5,8,4, 3, 7]\n",
        "# op: [10, -8, -4, 6, 14]\n"
      ],
      "metadata": {
        "id": "e9D6dvrtaL-w"
      },
      "execution_count": null,
      "outputs": []
    }
  ]
}